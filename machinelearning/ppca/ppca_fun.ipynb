{
 "cells": [
  {
   "attachments": {},
   "cell_type": "markdown",
   "metadata": {},
   "source": [
    "# PPCA\n",
    "\n",
    "$\\mathcal{N}(z|0, \\mu, \\sigma^2)$"
   ]
  },
  {
   "cell_type": "code",
   "execution_count": 1,
   "metadata": {},
   "outputs": [],
   "source": [
    "# from plot import *\n",
    "from sampling import *\n",
    "\n",
    "import numpy as np\n",
    "import scipy.linalg as sl\n",
    "from pathlib import Path\n",
    "\n",
    "\n",
    "def import_data() -> np.array:\n",
    "    fname = \"data.txt\"\n",
    "    f = open(fname,'r')\n",
    "    data = []\n",
    "    for line in f:\n",
    "        s = line.split()\n",
    "        data.append([float(s[0]),float(s[1])])\n",
    "    f.close()\n",
    "\n",
    "    return np.array(data)\n",
    "\n",
    "\n",
    "class ppca:\n",
    "\n",
    "    def __init__(self, X=None, num_components=1):\n",
    "\n",
    "        self.q = num_components\n",
    "        self.mu = None\n",
    "        self.sigma2 = None\n",
    "        self.W = None\n",
    "\n",
    "        if X is not None:\n",
    "            self.fit(X)\n",
    "\n",
    "\n",
    "    def fit(self, X):\n",
    "\n",
    "        mu_ml = np.mean(X, axis=0)\n",
    "\n",
    "        data_cov = np.cov(X, rowvar=False)\n",
    "\n",
    "        # Variance\n",
    "        lambdas, eigenvecs = np.linalg.eig(data_cov)\n",
    "        idx = lambdas.argsort()[::-1]   \n",
    "        lambdas = lambdas[idx]\n",
    "        eigenvecs = - eigenvecs[:,idx]\n",
    "        print(eigenvecs)\n",
    "        print(eigenvecs @ np.diag(lambdas) @ np.transpose(eigenvecs))\n",
    "\n",
    "        var_ml = (1.0 / (d-q)) * sum([lambdas[j] for j in range(q,d)])\n",
    "        print(f\"Var ML: {var_ml}\")\n",
    "\n",
    "        # Weight matrix\n",
    "        uq = eigenvecs[:,:q]\n",
    "        print(\"uq:\")\n",
    "        print(uq)\n",
    "\n",
    "        lambdaq = np.diag(lambdas[:q])\n",
    "\n",
    "        weight_ml = uq * np.sqrt(lambdaq - var_ml * np.eye(q))\n",
    "\n",
    "\n",
    "    def predict(self, Xtest):\n",
    "\n",
    "        q = self.q\n",
    "        m = np.transpose(weight_ml) @ weight_ml + var_ml * np.eye(q)\n",
    "\n",
    "        # rescale\n",
    "\n",
    "        cov = var_ml * np.linalg.inv(m)\n",
    "        act_hidden = []\n",
    "        for data_visible in Xtest:\n",
    "            mean = np.linalg.inv(m) @ np.transpose(weight_ml) @ (data_visible - mu_ml)\n",
    "            sample = np.random.multivariate_normal(mean,cov,size=1)\n",
    "            act_hidden.append(sample[0])\n",
    "        \n",
    "        return np.array(act_hidden)"
   ]
  },
  {
   "cell_type": "code",
   "execution_count": 6,
   "metadata": {},
   "outputs": [
    {
     "name": "stdout",
     "output_type": "stream",
     "text": [
      "\n",
      "---\n",
      "\n",
      "Data mean:\n",
      "[2662.32666667 3019.5       ]\n",
      "Data cov:\n",
      "[[24828.9596868    102.74161074]\n",
      " [  102.74161074   218.01006711]]\n"
     ]
    },
    {
     "data": {
      "image/png": "[encoded data removed]",
      "text/plain": [
       "<Figure size 640x480 with 1 Axes>"
      ]
     },
     "metadata": {},
     "output_type": "display_data"
    }
   ],
   "source": [
    "# --------------------------------------------\n",
    "\n",
    "# Import data\n",
    "\n",
    "#\n",
    "import matplotlib.pyplot as plt\n",
    "\n",
    "data = import_data()\n",
    "\n",
    "# figs = {}\n",
    "# figs[\"data\"] = plot_hist_2d(data, \"Data\")\n",
    "\n",
    "d = data.shape[1]\n",
    "plt.plot(data[:, 0], data[:, 1], 'o')\n",
    "print(\"\\n---\\n\")\n",
    "\n",
    "mu_ml = np.mean(data,axis=0)\n",
    "print(\"Data mean:\")\n",
    "print(mu_ml)\n",
    "\n",
    "data_cov = np.cov(data,rowvar=False)\n",
    "print(\"Data cov:\")\n",
    "print(data_cov)\n"
   ]
  },
  {
   "cell_type": "code",
   "execution_count": 9,
   "metadata": {},
   "outputs": [
    {
     "name": "stdout",
     "output_type": "stream",
     "text": [
      "\n",
      "---\n",
      "\n",
      "[[-0.99999129  0.00417452]\n",
      " [-0.00417452 -0.99999129]]\n",
      "[[24828.9596868    102.74161074]\n",
      " [  102.74161074   218.01006711]]\n",
      "Var ML:\n",
      "217.58116636932957\n",
      "uq:\n",
      "[[-0.99999129]\n",
      " [-0.00417452]]\n",
      "lambdaq\n",
      "[[24829.38858755]]\n",
      "Weight matrix ML:\n",
      "[[-156.88014062]\n",
      " [  -0.65490514]]\n"
     ]
    }
   ],
   "source": [
    "# -------------------------------------------------------------------\n",
    "\n",
    "# Max. likelihood\n",
    "\n",
    "#\n",
    "\n",
    "print(\"\\n---\\n\")\n",
    "\n",
    "# No hidden variables < no visibles = d\n",
    "q = 1\n",
    "\n",
    "# Variance\n",
    "lambdas, eigenvecs = np.linalg.eig(data_cov)\n",
    "idx = lambdas.argsort()[::-1]   \n",
    "lambdas = lambdas[idx]\n",
    "eigenvecs = - eigenvecs[:,idx]\n",
    "\n",
    "var_ml = (1.0 / (d-q)) * sum([lambdas[j] for j in range(q,d)])\n",
    "print(\"Var ML:\")\n",
    "print(var_ml)\n",
    "\n",
    "# Weight matrix\n",
    "uq = eigenvecs[:,:q]\n",
    "print(\"uq:\")\n",
    "print(uq)\n",
    "\n",
    "lambdaq = np.diag(lambdas[:q])\n",
    "print(\"lambdaq\")\n",
    "print(lambdaq)\n",
    "\n",
    "weight_ml = uq * np.sqrt(lambdaq - var_ml * np.eye(q))\n",
    "print(\"Weight matrix ML:\")\n",
    "print(weight_ml)"
   ]
  },
  {
   "cell_type": "code",
   "execution_count": 11,
   "metadata": {},
   "outputs": [
    {
     "name": "stdout",
     "output_type": "stream",
     "text": [
      "(200, 200, 200)\n"
     ]
    }
   ],
   "source": [
    "print(np.load(r\"C:\\Users\\johnk\\Documents\\git\\DeepMagnetics\\models\\model3.npy\").shape)"
   ]
  },
  {
   "cell_type": "code",
   "execution_count": null,
   "metadata": {},
   "outputs": [],
   "source": []
  }
 ],
 "metadata": {
  "kernelspec": {
   "display_name": "jresearch",
   "language": "python",
   "name": "python3"
  },
  "language_info": {
   "codemirror_mode": {
    "name": "ipython",
    "version": 3
   },
   "file_extension": ".py",
   "mimetype": "text/x-python",
   "name": "python",
   "nbconvert_exporter": "python",
   "pygments_lexer": "ipython3",
   "version": "3.10.8"
  },
  "orig_nbformat": 4
 },
 "nbformat": 4,
 "nbformat_minor": 2
}
