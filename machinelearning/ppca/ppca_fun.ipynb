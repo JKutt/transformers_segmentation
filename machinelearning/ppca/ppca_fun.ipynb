{
 "cells": [
  {
   "attachments": {},
   "cell_type": "markdown",
   "metadata": {},
   "source": [
    "# PPCA\n",
    "\n",
    "$\\mathcal{N}(z|0, \\mu, \\sigma^2)$"
   ]
  },
  {
   "cell_type": "code",
   "execution_count": 38,
   "metadata": {},
   "outputs": [],
   "source": [
    "# from plot import *\n",
    "from sampling import *\n",
    "\n",
    "import numpy as np\n",
    "import scipy.linalg as sl\n",
    "from pathlib import Path\n",
    "\n",
    "\n",
    "def import_data() -> np.array:\n",
    "    fname = \"data.txt\"\n",
    "    f = open(fname,'r')\n",
    "    data = []\n",
    "    for line in f:\n",
    "        s = line.split()\n",
    "        data.append([float(s[0]),float(s[1])])\n",
    "    f.close()\n",
    "\n",
    "    return np.array(data)\n",
    "\n",
    "\n",
    "class ppca:\n",
    "\n",
    "    def __init__(self, X=None, num_components=1, verbose=False):\n",
    "\n",
    "        self.q = num_components\n",
    "        self.d = X.shape[1]\n",
    "        self.mu = None\n",
    "        self.sigma2 = None\n",
    "        self.weights = None\n",
    "        self.verbose = verbose\n",
    "\n",
    "        if X is not None:\n",
    "            self.fit(X)\n",
    "\n",
    "\n",
    "    def fit(self, X):\n",
    "\n",
    "        # calculate maximum likelihood means\n",
    "        self.mu = np.mean(X, axis=0)\n",
    "\n",
    "        # Calcualte maximum likelihood variance\n",
    "        data_cov = np.cov(X, rowvar=False)\n",
    "        lambdas, eigenvecs = np.linalg.eig(data_cov)\n",
    "        idx = lambdas.argsort()[::-1]   \n",
    "        lambdas = lambdas[idx]\n",
    "        eigenvecs = - eigenvecs[:,idx]\n",
    "\n",
    "        self.sigma2 = (1.0 / (self.d-self.q)) * sum([lambdas[j] for j in range(self.q, self.d)])\n",
    "\n",
    "        # Calculate maximum likelihood Weight matrix\n",
    "        uq = eigenvecs[:,:self.q]\n",
    "        lambdaq = np.diag(lambdas[:self.q])\n",
    "        \n",
    "        self.weights = uq * np.sqrt(lambdaq - self.sigma2 * np.eye(self.q))\n",
    "\n",
    "        if self.verbose:\n",
    "            print(\"eigenvectors:\")\n",
    "            print(eigenvecs)\n",
    "            print(eigenvecs @ np.diag(lambdas) @ np.transpose(eigenvecs))\n",
    "            print(f\"Var ML: {self.sigma2 }\")\n",
    "            print(f\"uq: {uq}\")\n",
    "            print(f\"weights: {self.weights}\")\n",
    "\n",
    "\n",
    "    def predict(self, Xtest):\n",
    "\n",
    "        q = self.q\n",
    "        m = np.transpose(self.weights) @ self.weights + self.sigma2 * np.eye(q)\n",
    "\n",
    "        cov = self.sigma2 * np.linalg.inv(m)\n",
    "        act_hidden = []\n",
    "            \n",
    "        mean = np.linalg.inv(m) @ np.transpose(self.weights) @ (data_visible - self.mu)\n",
    "        sample = np.random.multivariate_normal(mean,cov,size=1)\n",
    "        act_hidden.append(sample[0])\n",
    "        \n",
    "        return np.array(act_hidden)"
   ]
  },
  {
   "cell_type": "code",
   "execution_count": 27,
   "metadata": {},
   "outputs": [
    {
     "name": "stdout",
     "output_type": "stream",
     "text": [
      "\n",
      "---\n",
      "\n",
      "Data mean:\n",
      "[2662.32666667 3019.5       ]\n",
      "Data cov:\n",
      "[[24828.9596868    102.74161074]\n",
      " [  102.74161074   218.01006711]]\n"
     ]
    },
    {
     "data": {
      "image/png": "[encoded data removed]",
      "text/plain": [
       "<Figure size 640x480 with 1 Axes>"
      ]
     },
     "metadata": {},
     "output_type": "display_data"
    }
   ],
   "source": [
    "# --------------------------------------------\n",
    "\n",
    "# Import data\n",
    "\n",
    "#\n",
    "import matplotlib.pyplot as plt\n",
    "\n",
    "data = import_data()\n",
    "\n",
    "# figs = {}\n",
    "# figs[\"data\"] = plot_hist_2d(data, \"Data\")\n",
    "\n",
    "d = data.shape[1]\n",
    "plt.plot(data[:, 0], data[:, 1], 'o')\n",
    "print(\"\\n---\\n\")\n",
    "\n",
    "mu_ml = np.mean(data,axis=0)\n",
    "print(\"Data mean:\")\n",
    "print(mu_ml)\n",
    "\n",
    "data_cov = np.cov(data,rowvar=False)\n",
    "print(\"Data cov:\")\n",
    "print(data_cov)\n"
   ]
  },
  {
   "cell_type": "code",
   "execution_count": 28,
   "metadata": {},
   "outputs": [
    {
     "name": "stdout",
     "output_type": "stream",
     "text": [
      "\n",
      "---\n",
      "\n",
      "Var ML:\n",
      "217.58116636932957\n",
      "uq:\n",
      "[[-0.99999129]\n",
      " [-0.00417452]]\n",
      "lambdaq\n",
      "[[24829.38858755]]\n",
      "Weight matrix ML:\n",
      "[[-156.88014062]\n",
      " [  -0.65490514]]\n"
     ]
    },
    {
     "data": {
      "text/plain": [
       "(array([ 4.,  9., 16., 22., 25., 37., 25., 10.,  1.,  1.]),\n",
       " array([-2.62092802, -2.06199535, -1.50306268, -0.94413002, -0.38519735,\n",
       "         0.17373532,  0.73266798,  1.29160065,  1.85053332,  2.40946599,\n",
       "         2.96839865]),\n",
       " <BarContainer object of 10 artists>)"
      ]
     },
     "execution_count": 28,
     "metadata": {},
     "output_type": "execute_result"
    },
    {
     "data": {
      "image/png": "[encoded data removed]",
      "text/plain": [
       "<Figure size 640x480 with 1 Axes>"
      ]
     },
     "metadata": {},
     "output_type": "display_data"
    }
   ],
   "source": [
    "# -------------------------------------------------------------------\n",
    "\n",
    "# Max. likelihood\n",
    "\n",
    "#\n",
    "\n",
    "print(\"\\n---\\n\")\n",
    "\n",
    "# No hidden variables < no visibles = d\n",
    "q = 1\n",
    "\n",
    "# Variance\n",
    "lambdas, eigenvecs = np.linalg.eig(data_cov)\n",
    "idx = lambdas.argsort()[::-1]   \n",
    "lambdas = lambdas[idx]\n",
    "eigenvecs = - eigenvecs[:,idx]\n",
    "\n",
    "var_ml = (1.0 / (d-q)) * sum([lambdas[j] for j in range(q,d)])\n",
    "print(\"Var ML:\")\n",
    "print(var_ml)\n",
    "\n",
    "# Weight matrix\n",
    "uq = eigenvecs[:,:q]\n",
    "print(\"uq:\")\n",
    "print(uq)\n",
    "\n",
    "lambdaq = np.diag(lambdas[:q])\n",
    "print(\"lambdaq\")\n",
    "print(lambdaq)\n",
    "\n",
    "weight_ml = uq * np.sqrt(lambdaq - var_ml * np.eye(q))\n",
    "print(\"Weight matrix ML:\")\n",
    "print(weight_ml)\n",
    "\n",
    "def sample_hidden_given_visible(\n",
    "    weight_ml : np.array, \n",
    "    mu_ml : np.array,\n",
    "    var_ml : float,\n",
    "    visible_samples : np.array\n",
    "    ) -> np.array:\n",
    "\n",
    "    q = weight_ml.shape[1]\n",
    "    m = np.transpose(weight_ml) @ weight_ml + var_ml * np.eye(q)\n",
    "\n",
    "    cov = var_ml * np.linalg.inv(m)\n",
    "    act_hidden = []\n",
    "    for data_visible in visible_samples:\n",
    "        mean = np.linalg.inv(m) @ np.transpose(weight_ml) @ (data_visible - mu_ml)\n",
    "        sample = np.random.multivariate_normal(mean,cov,size=1)\n",
    "        act_hidden.append(sample[0])\n",
    "    \n",
    "    return np.array(act_hidden)\n",
    "\n",
    "act_hidden = sample_hidden_given_visible(\n",
    "    weight_ml=weight_ml,\n",
    "    mu_ml=mu_ml,\n",
    "    var_ml=var_ml,\n",
    "    visible_samples=data\n",
    "    )\n",
    "\n",
    "plt.hist(act_hidden)"
   ]
  },
  {
   "cell_type": "code",
   "execution_count": 20,
   "metadata": {},
   "outputs": [
    {
     "name": "stdout",
     "output_type": "stream",
     "text": [
      "\n",
      "---\n",
      "\n",
      "Data mean:\n",
      "[2662.32666667 3019.5       ]\n",
      "Data cov:\n",
      "[[24828.9596868    102.74161074]\n",
      " [  102.74161074   218.01006711]]\n"
     ]
    },
    {
     "data": {
      "image/png": "[encoded data removed]",
      "text/plain": [
       "<Figure size 640x480 with 1 Axes>"
      ]
     },
     "metadata": {},
     "output_type": "display_data"
    }
   ],
   "source": [
    "d = data.shape[1]\n",
    "plt.plot(data[:, 0], data[:, 1], 'o')\n",
    "print(\"\\n---\\n\")\n",
    "\n",
    "mu_ml = np.mean(data,axis=0)\n",
    "print(\"Data mean:\")\n",
    "print(mu_ml)\n",
    "\n",
    "data_cov = np.cov(data,rowvar=False)\n",
    "print(\"Data cov:\")\n",
    "print(data_cov)"
   ]
  },
  {
   "cell_type": "code",
   "execution_count": 39,
   "metadata": {},
   "outputs": [
    {
     "ename": "AttributeError",
     "evalue": "'ppca' object has no attribute 'verbose'",
     "output_type": "error",
     "traceback": [
      "\u001b[1;31m---------------------------------------------------------------------------\u001b[0m",
      "\u001b[1;31mAttributeError\u001b[0m                            Traceback (most recent call last)",
      "\u001b[1;32mc:\\Users\\johnk\\Documents\\git\\jresearch\\machinelearning\\ppca\\ppca_fun.ipynb Cell 6\u001b[0m in \u001b[0;36m1\n\u001b[1;32m----> <a href='vscode-notebook-cell:/c%3A/Users/johnk/Documents/git/jresearch/machinelearning/ppca/ppca_fun.ipynb#W5sZmlsZQ%3D%3D?line=0'>1</a>\u001b[0m model \u001b[39m=\u001b[39m ppca(X\u001b[39m=\u001b[39;49mdata, num_components\u001b[39m=\u001b[39;49m\u001b[39m1\u001b[39;49m)\n\u001b[0;32m      <a href='vscode-notebook-cell:/c%3A/Users/johnk/Documents/git/jresearch/machinelearning/ppca/ppca_fun.ipynb#W5sZmlsZQ%3D%3D?line=3'>4</a>\u001b[0m mean_hidden \u001b[39m=\u001b[39m np\u001b[39m.\u001b[39mfull(q,\u001b[39m0\u001b[39m)\n\u001b[0;32m      <a href='vscode-notebook-cell:/c%3A/Users/johnk/Documents/git/jresearch/machinelearning/ppca/ppca_fun.ipynb#W5sZmlsZQ%3D%3D?line=4'>5</a>\u001b[0m cov_hidden \u001b[39m=\u001b[39m np\u001b[39m.\u001b[39meye(q)\n",
      "\u001b[1;32mc:\\Users\\johnk\\Documents\\git\\jresearch\\machinelearning\\ppca\\ppca_fun.ipynb Cell 6\u001b[0m in \u001b[0;36m3\n\u001b[0;32m     <a href='vscode-notebook-cell:/c%3A/Users/johnk/Documents/git/jresearch/machinelearning/ppca/ppca_fun.ipynb#W5sZmlsZQ%3D%3D?line=28'>29</a>\u001b[0m \u001b[39mself\u001b[39m\u001b[39m.\u001b[39mweights \u001b[39m=\u001b[39m \u001b[39mNone\u001b[39;00m\n\u001b[0;32m     <a href='vscode-notebook-cell:/c%3A/Users/johnk/Documents/git/jresearch/machinelearning/ppca/ppca_fun.ipynb#W5sZmlsZQ%3D%3D?line=30'>31</a>\u001b[0m \u001b[39mif\u001b[39;00m X \u001b[39mis\u001b[39;00m \u001b[39mnot\u001b[39;00m \u001b[39mNone\u001b[39;00m:\n\u001b[1;32m---> <a href='vscode-notebook-cell:/c%3A/Users/johnk/Documents/git/jresearch/machinelearning/ppca/ppca_fun.ipynb#W5sZmlsZQ%3D%3D?line=31'>32</a>\u001b[0m     \u001b[39mself\u001b[39;49m\u001b[39m.\u001b[39;49mfit(X)\n",
      "\u001b[1;32mc:\\Users\\johnk\\Documents\\git\\jresearch\\machinelearning\\ppca\\ppca_fun.ipynb Cell 6\u001b[0m in \u001b[0;36m5\n\u001b[0;32m     <a href='vscode-notebook-cell:/c%3A/Users/johnk/Documents/git/jresearch/machinelearning/ppca/ppca_fun.ipynb#W5sZmlsZQ%3D%3D?line=50'>51</a>\u001b[0m lambdaq \u001b[39m=\u001b[39m np\u001b[39m.\u001b[39mdiag(lambdas[:\u001b[39mself\u001b[39m\u001b[39m.\u001b[39mq])\n\u001b[0;32m     <a href='vscode-notebook-cell:/c%3A/Users/johnk/Documents/git/jresearch/machinelearning/ppca/ppca_fun.ipynb#W5sZmlsZQ%3D%3D?line=52'>53</a>\u001b[0m \u001b[39mself\u001b[39m\u001b[39m.\u001b[39mweights \u001b[39m=\u001b[39m uq \u001b[39m*\u001b[39m np\u001b[39m.\u001b[39msqrt(lambdaq \u001b[39m-\u001b[39m \u001b[39mself\u001b[39m\u001b[39m.\u001b[39msigma2 \u001b[39m*\u001b[39m np\u001b[39m.\u001b[39meye(\u001b[39mself\u001b[39m\u001b[39m.\u001b[39mq))\n\u001b[1;32m---> <a href='vscode-notebook-cell:/c%3A/Users/johnk/Documents/git/jresearch/machinelearning/ppca/ppca_fun.ipynb#W5sZmlsZQ%3D%3D?line=54'>55</a>\u001b[0m \u001b[39mif\u001b[39;00m \u001b[39mself\u001b[39;49m\u001b[39m.\u001b[39;49mverbose:\n\u001b[0;32m     <a href='vscode-notebook-cell:/c%3A/Users/johnk/Documents/git/jresearch/machinelearning/ppca/ppca_fun.ipynb#W5sZmlsZQ%3D%3D?line=55'>56</a>\u001b[0m     \u001b[39mprint\u001b[39m(\u001b[39m\"\u001b[39m\u001b[39meigenvectors:\u001b[39m\u001b[39m\"\u001b[39m)\n\u001b[0;32m     <a href='vscode-notebook-cell:/c%3A/Users/johnk/Documents/git/jresearch/machinelearning/ppca/ppca_fun.ipynb#W5sZmlsZQ%3D%3D?line=56'>57</a>\u001b[0m     \u001b[39mprint\u001b[39m(eigenvecs)\n",
      "\u001b[1;31mAttributeError\u001b[0m: 'ppca' object has no attribute 'verbose'"
     ]
    }
   ],
   "source": [
    "model = ppca(X=data, num_components=1)\n",
    "\n",
    "\n",
    "mean_hidden = np.full(q,0)\n",
    "cov_hidden = np.eye(q)\n",
    "\n",
    "no_samples = len(data)\n",
    "X_test = np.random.multivariate_normal(mean_hidden,cov_hidden,size=no_samples)\n",
    "plt.hist(model.predict(X_test))"
   ]
  },
  {
   "cell_type": "code",
   "execution_count": null,
   "metadata": {},
   "outputs": [],
   "source": [
    "\"C:\\Users\\johnk\\Documents\\projects\\ubc\\cpsc540\\a3\\data\\mnist35.pkl\"\n",
    "\n",
    "def load_dataset(filename, *keys):\n",
    "    if not filename.endswith(\".pkl\"):\n",
    "        filename = filename + \".pkl\"\n",
    "    with open(Path(\"..\", \"data\", filename), \"rb\") as (f):\n",
    "        data = pickle.load(f)\n",
    "        if not keys:\n",
    "            return data\n",
    "        return [data[k] for k in keys]"
   ]
  }
 ],
 "metadata": {
  "kernelspec": {
   "display_name": "jresearch",
   "language": "python",
   "name": "python3"
  },
  "language_info": {
   "codemirror_mode": {
    "name": "ipython",
    "version": 3
   },
   "file_extension": ".py",
   "mimetype": "text/x-python",
   "name": "python",
   "nbconvert_exporter": "python",
   "pygments_lexer": "ipython3",
   "version": "3.10.8"
  },
  "orig_nbformat": 4
 },
 "nbformat": 4,
 "nbformat_minor": 2
}
