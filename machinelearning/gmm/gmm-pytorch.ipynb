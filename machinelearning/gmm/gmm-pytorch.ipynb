{
 "cells": [
  {
   "cell_type": "markdown",
   "id": "1de3ec02",
   "metadata": {},
   "source": [
    "# Gaussian mixture models from scratch\n",
    "Creating a GMM using pytorch based of blog https://towardsdatascience.com/gaussian-mixture-models-explained-6986aaf5a95"
   ]
  },
  {
   "cell_type": "code",
   "execution_count": 1,
   "id": "a4ffe26d",
   "metadata": {},
   "outputs": [],
   "source": [
    "import imageio\n",
    "import matplotlib.animation as ani\n",
    "import matplotlib.cm as cmx\n",
    "import matplotlib.colors as colors\n",
    "import matplotlib.pyplot as plt\n",
    "import numpy as np\n",
    "from matplotlib.patches import Ellipse\n",
    "from PIL import Image\n",
    "from sklearn import datasets\n",
    "from sklearn.cluster import KMeans\n",
    "import matplotlib.pyplot as plt\n",
    "from SimPEG import (\n",
    "    maps,\n",
    "    data,\n",
    "    utils,\n",
    "    data_misfit,\n",
    "    regularization,\n",
    "    optimization,\n",
    "    inverse_problem,\n",
    "    directives,\n",
    "    inversion,\n",
    ")\n",
    "from SimPEG.electromagnetics.static import resistivity as dc, utils as dcutils\n",
    "import copy\n",
    "from pymatsolver import PardisoSolver\n",
    "from scipy.stats import norm\n",
    "import discretize\n",
    "import torch\n",
    "from einops import rearrange\n",
    "from torch import nn\n",
    "from torchvision.ops import StochasticDepth\n",
    "from typing import List, Iterable"
   ]
  },
  {
   "cell_type": "markdown",
   "id": "2196bc9b",
   "metadata": {},
   "source": [
    "First lets use a known dataset which is the Iris dataset"
   ]
  },
  {
   "cell_type": "code",
   "execution_count": 97,
   "id": "6ce4b236",
   "metadata": {},
   "outputs": [
    {
     "name": "stdout",
     "output_type": "stream",
     "text": [
      "torch.Size([150, 4]) tensor([5.1000, 3.5000, 1.4000, 0.2000])\n"
     ]
    }
   ],
   "source": [
    "iris = datasets.load_iris()\n",
    "X = iris.data\n",
    "\n",
    "# convert to pytorch\n",
    "X = torch.from_numpy(X)\n",
    "print(X.shape, X[0, :])"
   ]
  },
  {
   "cell_type": "markdown",
   "id": "e4672dda",
   "metadata": {},
   "source": [
    "Use pytorch to impliment the Gaussian denisty equation:\n",
    "    \n",
    "$$\n",
    "\\mathcal{N}(\\mathbf{x}|\\mu, \\Sigma) = \\frac{1}{(2\\pi)^{\\frac{D}{2}}|\\Sigma|^{\\frac{1}{2}}}e^{\\left( -\\frac{1}{2}(\\mathbf{x} - \\mu)^T \\Sigma^{-1}(\\mathbf{x} - \\mu) \\right)}\n",
    "$$\n",
    "\n",
    "- $\\mathbf{x}$ is our data\n",
    "- D is the number of dimensions of each data point.\n",
    "- $\\mu$ is the mean with dimensions 1 x 3\n",
    "- $\\Sigma$ is the covariance with dimensions 3 x 3."
   ]
  },
  {
   "cell_type": "code",
   "execution_count": 130,
   "id": "b295c0cb",
   "metadata": {},
   "outputs": [],
   "source": [
    "def torch_gaussian(X, mu, cov):\n",
    "    n = X.shape[1]\n",
    "    diff = (X - mu).T\n",
    "    return torch.diagonal(1 / ((2 * np.pi) ** (n / 2) * torch.linalg.det(cov) ** 0.5) * np.exp(-0.5 * torch.matmul(torch.matmul(diff.T, torch.linalg.inv(cov)), diff)))"
   ]
  },
  {
   "cell_type": "code",
   "execution_count": 175,
   "id": "b4233d5a",
   "metadata": {},
   "outputs": [
    {
     "name": "stdout",
     "output_type": "stream",
     "text": [
      "torch.Size([13651, 13651]) torch.Size([1, 13651]) torch.Size([13651]) torch.Size([13651, 1])\n"
     ]
    },
    {
     "ename": "OverflowError",
     "evalue": "(34, 'Result too large')",
     "output_type": "error",
     "traceback": [
      "\u001b[1;31m---------------------------------------------------------------------------\u001b[0m",
      "\u001b[1;31mOverflowError\u001b[0m                             Traceback (most recent call last)",
      "Cell \u001b[1;32mIn [175], line 10\u001b[0m\n\u001b[0;32m      8\u001b[0m cov \u001b[38;5;241m=\u001b[39m torch\u001b[38;5;241m.\u001b[39mmatmul((x0 \u001b[38;5;241m-\u001b[39m mu)\u001b[38;5;241m.\u001b[39mT, x0 \u001b[38;5;241m-\u001b[39m mu) \u001b[38;5;241m/\u001b[39m (x0\u001b[38;5;241m.\u001b[39mshape[\u001b[38;5;241m0\u001b[39m] \u001b[38;5;241m-\u001b[39m \u001b[38;5;241m1\u001b[39m)\n\u001b[0;32m      9\u001b[0m \u001b[38;5;28mprint\u001b[39m(cov\u001b[38;5;241m.\u001b[39mshape, x0\u001b[38;5;241m.\u001b[39mshape, mu\u001b[38;5;241m.\u001b[39mshape, (x0 \u001b[38;5;241m-\u001b[39m mu)\u001b[38;5;241m.\u001b[39mT\u001b[38;5;241m.\u001b[39mshape)\n\u001b[1;32m---> 10\u001b[0m y \u001b[38;5;241m=\u001b[39m \u001b[43mtorch_gaussian\u001b[49m\u001b[43m(\u001b[49m\u001b[43mx0\u001b[49m\u001b[43m,\u001b[49m\u001b[43m \u001b[49m\u001b[43mmu\u001b[49m\u001b[38;5;241;43m=\u001b[39;49m\u001b[43mmu\u001b[49m\u001b[43m,\u001b[49m\u001b[43m \u001b[49m\u001b[43mcov\u001b[49m\u001b[38;5;241;43m=\u001b[39;49m\u001b[43mcov\u001b[49m\u001b[43m)\u001b[49m\n\u001b[0;32m     11\u001b[0m \u001b[38;5;66;03m# y\u001b[39;00m\n\u001b[0;32m     12\u001b[0m \u001b[38;5;28mprint\u001b[39m(y)\n",
      "Cell \u001b[1;32mIn [130], line 4\u001b[0m, in \u001b[0;36mtorch_gaussian\u001b[1;34m(X, mu, cov)\u001b[0m\n\u001b[0;32m      2\u001b[0m n \u001b[38;5;241m=\u001b[39m X\u001b[38;5;241m.\u001b[39mshape[\u001b[38;5;241m1\u001b[39m]\n\u001b[0;32m      3\u001b[0m diff \u001b[38;5;241m=\u001b[39m (X \u001b[38;5;241m-\u001b[39m mu)\u001b[38;5;241m.\u001b[39mT\n\u001b[1;32m----> 4\u001b[0m \u001b[38;5;28;01mreturn\u001b[39;00m torch\u001b[38;5;241m.\u001b[39mdiagonal(\u001b[38;5;241m1\u001b[39m \u001b[38;5;241m/\u001b[39m (\u001b[43m(\u001b[49m\u001b[38;5;241;43m2\u001b[39;49m\u001b[43m \u001b[49m\u001b[38;5;241;43m*\u001b[39;49m\u001b[43m \u001b[49m\u001b[43mnp\u001b[49m\u001b[38;5;241;43m.\u001b[39;49m\u001b[43mpi\u001b[49m\u001b[43m)\u001b[49m\u001b[43m \u001b[49m\u001b[38;5;241;43m*\u001b[39;49m\u001b[38;5;241;43m*\u001b[39;49m\u001b[43m \u001b[49m\u001b[43m(\u001b[49m\u001b[43mn\u001b[49m\u001b[43m \u001b[49m\u001b[38;5;241;43m/\u001b[39;49m\u001b[43m \u001b[49m\u001b[38;5;241;43m2\u001b[39;49m\u001b[43m)\u001b[49m \u001b[38;5;241m*\u001b[39m torch\u001b[38;5;241m.\u001b[39mlinalg\u001b[38;5;241m.\u001b[39mdet(cov) \u001b[38;5;241m*\u001b[39m\u001b[38;5;241m*\u001b[39m \u001b[38;5;241m0.5\u001b[39m) \u001b[38;5;241m*\u001b[39m np\u001b[38;5;241m.\u001b[39mexp(\u001b[38;5;241m-\u001b[39m\u001b[38;5;241m0.5\u001b[39m \u001b[38;5;241m*\u001b[39m torch\u001b[38;5;241m.\u001b[39mmatmul(torch\u001b[38;5;241m.\u001b[39mmatmul(diff\u001b[38;5;241m.\u001b[39mT, torch\u001b[38;5;241m.\u001b[39mlinalg\u001b[38;5;241m.\u001b[39minv(cov)), diff)))\n",
      "\u001b[1;31mOverflowError\u001b[0m: (34, 'Result too large')"
     ]
    }
   ],
   "source": [
    "# x0 = torch.from_numpy(np.array([[0.05, 1.413, 0.212], [0.85, -0.3, 1.11], [11.1, 0.4, 1.5], [0.27, 0.12, 1.44], [88, 12.33, 1.44]]))\n",
    "\n",
    "mesh = discretize.TensorMesh.readUBC(r\"C:\\Users\\johnk\\Documents\\git\\ts\\PGI\\global_mesh.txt\")\n",
    "x0 = torch.from_numpy(discretize.TreeMesh.readModelUBC(mesh, r\"C:\\Users\\johnk\\Documents\\git\\ts\\PGI\\dc_res_40__14.mod\")).view(1, -1)\n",
    "x0=x0[x0 > 1e-8].view(1, -1)\n",
    "mu = torch.mean(x0, axis=0)\n",
    "# print((x0 - mu).T, x0 - mu)\n",
    "cov = torch.matmul((x0 - mu).T, x0 - mu) / (x0.shape[0] - 1)\n",
    "print(cov.shape, x0.shape, mu.shape, (x0 - mu).T.shape)\n",
    "y = torch_gaussian(x0, mu=mu, cov=cov)\n",
    "# y\n",
    "print(y)\n",
    "plt.plot(y)"
   ]
  },
  {
   "cell_type": "markdown",
   "id": "eb3d7439",
   "metadata": {},
   "source": [
    "## Maximization algorithm\n",
    "\n",
    "**Step 1: Initialization Step** \n",
    "\n",
    "Use k-means to initialize our parameters:\n",
    "- Proportions $\\pi_k$\n",
    "- Means $\\mu_k$\n",
    "- Covariances $\\Sigma_k$"
   ]
  },
  {
   "cell_type": "code",
   "execution_count": 83,
   "id": "463d9f51",
   "metadata": {},
   "outputs": [],
   "source": [
    "def initialize_clusters(X, n_clusters):\n",
    "    clusters = []\n",
    "    idx = torch.arange(X.shape[0])\n",
    "    \n",
    "    # We use the KMeans centroids to initialise the GMM\n",
    "    \n",
    "    kmeans = KMeans(n_clusters).fit(X)\n",
    "    mu_k = kmeans.cluster_centers_\n",
    "    \n",
    "    for i in range(n_clusters):\n",
    "        clusters.append({\n",
    "            'pi_k': 1.0 / n_clusters,\n",
    "            'mu_k': torch.from_numpy(mu_k[i]),\n",
    "            'cov_k': torch.eye(X.shape[1])\n",
    "        })\n",
    "        \n",
    "    return clusters"
   ]
  },
  {
   "cell_type": "code",
   "execution_count": 99,
   "id": "42145632",
   "metadata": {},
   "outputs": [
    {
     "name": "stderr",
     "output_type": "stream",
     "text": [
      "C:\\Users\\johnk\\Anaconda3\\envs\\jresearch\\lib\\site-packages\\sklearn\\cluster\\_kmeans.py:1334: UserWarning: KMeans is known to have a memory leak on Windows with MKL, when there are less chunks than available threads. You can avoid it by setting the environment variable OMP_NUM_THREADS=1.\n",
      "  warnings.warn(\n"
     ]
    },
    {
     "data": {
      "text/plain": [
       "[{'pi_k': 0.3333333333333333,\n",
       "  'mu_k': tensor([6.8500, 3.0737, 5.7421, 2.0711]),\n",
       "  'cov_k': tensor([[1., 0., 0., 0.],\n",
       "          [0., 1., 0., 0.],\n",
       "          [0., 0., 1., 0.],\n",
       "          [0., 0., 0., 1.]])},\n",
       " {'pi_k': 0.3333333333333333,\n",
       "  'mu_k': tensor([5.0060, 3.4280, 1.4620, 0.2460]),\n",
       "  'cov_k': tensor([[1., 0., 0., 0.],\n",
       "          [0., 1., 0., 0.],\n",
       "          [0., 0., 1., 0.],\n",
       "          [0., 0., 0., 1.]])},\n",
       " {'pi_k': 0.3333333333333333,\n",
       "  'mu_k': tensor([5.9016, 2.7484, 4.3935, 1.4339]),\n",
       "  'cov_k': tensor([[1., 0., 0., 0.],\n",
       "          [0., 1., 0., 0.],\n",
       "          [0., 0., 1., 0.],\n",
       "          [0., 0., 0., 1.]])}]"
      ]
     },
     "execution_count": 99,
     "metadata": {},
     "output_type": "execute_result"
    }
   ],
   "source": [
    "initialize_clusters(X, 3)"
   ]
  },
  {
   "cell_type": "markdown",
   "id": "a428130a",
   "metadata": {},
   "source": [
    "**Step 2: Expectation Step**\n",
    "\n",
    "$$\n",
    "\\gamma(\\mathcal{z}_{nk}) = \\frac{\\pi_k \\mathcal{N}(\\mathbf{x}_n|\\mu_k, \\Sigma_k)}{\\sum_{j=1}^K \\pi_j \\mathcal{N}(\\mathbf{x}_n|\\mu_j, \\Sigma_j)}\n",
    "$$"
   ]
  },
  {
   "cell_type": "code",
   "execution_count": 85,
   "id": "6aa9623c",
   "metadata": {},
   "outputs": [],
   "source": [
    "def expectation_step(X, clusters):\n",
    "    global gamma_nk, totals\n",
    "    N = X.shape[0]\n",
    "    K = len(clusters)\n",
    "    totals = torch.zeros(N, 1)\n",
    "    gamma_nk = torch.zeros(N, K)\n",
    "    \n",
    "    for k, cluster in enumerate(clusters):\n",
    "        pi_k = cluster['pi_k']\n",
    "        mu_k = cluster['mu_k']\n",
    "        cov_k = cluster['cov_k']\n",
    "    \n",
    "        gamma_nk[:, k] = (pi_k * torch_gaussian(X, mu_k, cov_k)).ravel()\n",
    "    \n",
    "    totals = torch.sum(gamma_nk, 1)\n",
    "    gamma_nk /= torch.unsqueeze(totals, 1)"
   ]
  },
  {
   "cell_type": "markdown",
   "id": "40f495a2",
   "metadata": {},
   "source": [
    "**Step 3: Maximation step**\n",
    "\n",
    "$\\gamma(\\mathcal{z}_{nk})$ is common to the expressions for $\\pi_k$, $\\mu_k$ and $\\Sigma_k$ and will define as:\n",
    "\n",
    "$$\n",
    "N_k = \\sum_{n=1}^N \\gamma(z_{nk})\n",
    "$$\n",
    "\n",
    "The updated parameters are now:\n",
    "\n",
    "$$\n",
    "\\pi_k^* = \\frac{N_k}{N}\n",
    "$$\n",
    "\n",
    "$$\n",
    "\\mu_k^* = \\frac{1}{N_k} \\sum_{n=1}^N \\gamma(z_{nk}) \\mathbf{x}_n\n",
    "$$\n",
    "\n",
    "$$\n",
    "\\Sigma_k^* = \\sum_{n=1}^N \\gamma(z_{nk})(\\mathbf{x}_n\n",
    "- \\mu_k)(\\mathbf{x}_n - \\mu_k)^T\n",
    "$$"
   ]
  },
  {
   "cell_type": "code",
   "execution_count": 86,
   "id": "9f3cbda0",
   "metadata": {},
   "outputs": [],
   "source": [
    "def maximization_step(X, clusters):\n",
    "    global gamma_nk\n",
    "    N = float(X.shape[0])\n",
    "  \n",
    "    for k, cluster in enumerate(clusters):\n",
    "        gamma_k = torch.unsqueeze(gamma_nk[:, k], 1)\n",
    "        N_k = torch.sum(gamma_k, axis=0)\n",
    "        \n",
    "        pi_k = N_k / N\n",
    "        mu_k = torch.sum(gamma_k * X, axis=0) / N_k\n",
    "        cov_k = (gamma_k * (X - mu_k)).T @ (X - mu_k) / N_k\n",
    "        \n",
    "        cluster['pi_k'] = pi_k\n",
    "        cluster['mu_k'] = mu_k\n",
    "        cluster['cov_k'] = cov_k"
   ]
  },
  {
   "cell_type": "markdown",
   "id": "cc5d2472",
   "metadata": {},
   "source": [
    "**Calculate the log likelihood**\n",
    "\n",
    "$$\n",
    "ln (p(\\mathbf{X})) = \\sum_{n=1}^N ln \\sum_{k-1}^K \\pi_k \\mathcal{N}(\\mathbf{x}_n|\\mu_k, \\Sigma_k)\n",
    "$$\n",
    "\n",
    "Part of this is already calculated. Need to pass this along"
   ]
  },
  {
   "cell_type": "code",
   "execution_count": 87,
   "id": "a5671dd8",
   "metadata": {},
   "outputs": [],
   "source": [
    "def get_likelihood(X, clusters):\n",
    "    global gamma_nk, totals\n",
    "    sample_likelihoods = torch.log(totals)\n",
    "    return torch.sum(sample_likelihoods), sample_likelihoods"
   ]
  },
  {
   "cell_type": "markdown",
   "id": "0e5a9482",
   "metadata": {},
   "source": [
    "**All together now!**\n",
    "\n",
    "Create a method executing the proceedure for training our GMM and examine the log-likelihoods"
   ]
  },
  {
   "cell_type": "code",
   "execution_count": 88,
   "id": "b1a44ac8",
   "metadata": {},
   "outputs": [],
   "source": [
    "def train_gmm(X, n_clusters, n_epochs):\n",
    "    clusters = initialize_clusters(X, n_clusters)\n",
    "    likelihoods = torch.zeros(n_epochs, )\n",
    "    scores = torch.zeros(X.shape[0], n_clusters)\n",
    "    history = []\n",
    "\n",
    "    for i in range(n_epochs):\n",
    "        clusters_snapshot = []\n",
    "        \n",
    "        # This is just for our later use in the graphs\n",
    "        for cluster in clusters:\n",
    "            clusters_snapshot.append({\n",
    "                'mu_k': cluster['mu_k'],\n",
    "                'cov_k': cluster['cov_k']\n",
    "            })\n",
    "            \n",
    "        history.append(clusters_snapshot)\n",
    "      \n",
    "        expectation_step(X, clusters)\n",
    "        maximization_step(X, clusters)\n",
    "\n",
    "        likelihood, sample_likelihoods = get_likelihood(X, clusters)\n",
    "        likelihoods[i] = likelihood\n",
    "\n",
    "        print('Epoch: ', i + 1, 'Likelihood: ', likelihood)\n",
    "\n",
    "    scores = torch.log(gamma_nk)\n",
    "    \n",
    "    return clusters, likelihoods, scores, sample_likelihoods, history"
   ]
  },
  {
   "cell_type": "code",
   "execution_count": 104,
   "id": "34335ebc",
   "metadata": {},
   "outputs": [
    {
     "name": "stderr",
     "output_type": "stream",
     "text": [
      "C:\\Users\\johnk\\Anaconda3\\envs\\jresearch\\lib\\site-packages\\sklearn\\cluster\\_kmeans.py:1334: UserWarning: KMeans is known to have a memory leak on Windows with MKL, when there are less chunks than available threads. You can avoid it by setting the environment variable OMP_NUM_THREADS=1.\n",
      "  warnings.warn(\n"
     ]
    },
    {
     "name": "stdout",
     "output_type": "stream",
     "text": [
      "Epoch:  1 Likelihood:  tensor(-727.7881)\n",
      "Epoch:  2 Likelihood:  tensor(-229.3310)\n",
      "Epoch:  3 Likelihood:  tensor(-199.7481)\n",
      "Epoch:  4 Likelihood:  tensor(-195.7389)\n",
      "Epoch:  5 Likelihood:  tensor(-192.3961)\n",
      "Epoch:  6 Likelihood:  tensor(-189.9948)\n",
      "Epoch:  7 Likelihood:  tensor(-188.3670)\n",
      "Epoch:  8 Likelihood:  tensor(-187.1222)\n",
      "Epoch:  9 Likelihood:  tensor(-185.9689)\n",
      "Epoch:  10 Likelihood:  tensor(-184.9027)\n",
      "Epoch:  11 Likelihood:  tensor(-183.9616)\n",
      "Epoch:  12 Likelihood:  tensor(-183.1230)\n",
      "Epoch:  13 Likelihood:  tensor(-182.4218)\n",
      "Epoch:  14 Likelihood:  tensor(-181.8531)\n",
      "Epoch:  15 Likelihood:  tensor(-181.2745)\n",
      "Epoch:  16 Likelihood:  tensor(-180.6706)\n",
      "Epoch:  17 Likelihood:  tensor(-180.3403)\n",
      "Epoch:  18 Likelihood:  tensor(-180.2333)\n",
      "Epoch:  19 Likelihood:  tensor(-180.2004)\n",
      "Epoch:  20 Likelihood:  tensor(-180.1902)\n",
      "Epoch:  21 Likelihood:  tensor(-180.1870)\n",
      "Epoch:  22 Likelihood:  tensor(-180.1859)\n",
      "Epoch:  23 Likelihood:  tensor(-180.1856)\n",
      "Epoch:  24 Likelihood:  tensor(-180.1855)\n",
      "Epoch:  25 Likelihood:  tensor(-180.1855)\n",
      "Epoch:  26 Likelihood:  tensor(-180.1855)\n",
      "Epoch:  27 Likelihood:  tensor(-180.1855)\n",
      "Epoch:  28 Likelihood:  tensor(-180.1855)\n",
      "Epoch:  29 Likelihood:  tensor(-180.1855)\n",
      "Epoch:  30 Likelihood:  tensor(-180.1855)\n",
      "Epoch:  31 Likelihood:  tensor(-180.1855)\n",
      "Epoch:  32 Likelihood:  tensor(-180.1855)\n",
      "Epoch:  33 Likelihood:  tensor(-180.1855)\n",
      "Epoch:  34 Likelihood:  tensor(-180.1855)\n",
      "Epoch:  35 Likelihood:  tensor(-180.1855)\n",
      "Epoch:  36 Likelihood:  tensor(-180.1855)\n",
      "Epoch:  37 Likelihood:  tensor(-180.1855)\n",
      "Epoch:  38 Likelihood:  tensor(-180.1855)\n",
      "Epoch:  39 Likelihood:  tensor(-180.1855)\n",
      "Epoch:  40 Likelihood:  tensor(-180.1855)\n",
      "Epoch:  41 Likelihood:  tensor(-180.1855)\n",
      "Epoch:  42 Likelihood:  tensor(-180.1855)\n",
      "Epoch:  43 Likelihood:  tensor(-180.1855)\n",
      "Epoch:  44 Likelihood:  tensor(-180.1855)\n",
      "Epoch:  45 Likelihood:  tensor(-180.1855)\n",
      "Epoch:  46 Likelihood:  tensor(-180.1855)\n",
      "Epoch:  47 Likelihood:  tensor(-180.1855)\n",
      "Epoch:  48 Likelihood:  tensor(-180.1855)\n",
      "Epoch:  49 Likelihood:  tensor(-180.1855)\n",
      "Epoch:  50 Likelihood:  tensor(-180.1855)\n"
     ]
    }
   ],
   "source": [
    "torch.set_default_dtype(torch.float64)\n",
    "n_clusters = 3\n",
    "n_epochs = 50\n",
    "\n",
    "clusters, likelihoods, scores, sample_likelihoods, history = train_gmm(X, n_clusters, n_epochs)"
   ]
  },
  {
   "cell_type": "code",
   "execution_count": 135,
   "id": "98ca8f7d",
   "metadata": {},
   "outputs": [
    {
     "data": {
      "image/png": "[encoded data removed]",
      "text/plain": [
       "<Figure size 1000x1000 with 1 Axes>"
      ]
     },
     "metadata": {},
     "output_type": "display_data"
    },
    {
     "name": "stdout",
     "output_type": "stream",
     "text": [
      "torch.Size([50]) torch.Size([150, 3])\n"
     ]
    }
   ],
   "source": [
    "plt.figure(figsize=(10, 10))\n",
    "plt.title('Log-Likelihood')\n",
    "plt.plot(np.arange(1, n_epochs + 1), -likelihoods)\n",
    "plt.show()\n",
    "print(likelihoods.shape, scores.shape)"
   ]
  },
  {
   "cell_type": "code",
   "execution_count": 166,
   "id": "d97a812b",
   "metadata": {},
   "outputs": [
    {
     "data": {
      "image/png": "[encoded data removed]",
      "text/plain": [
       "<Figure size 1000x1000 with 1 Axes>"
      ]
     },
     "metadata": {},
     "output_type": "display_data"
    }
   ],
   "source": [
    "def create_cluster_animation(X, history, scores):\n",
    "    fig, ax = plt.subplots(1, 1, figsize=(10, 10))\n",
    "    colorset = ['blue', 'red', 'black', 'magenta']\n",
    "    images = []\n",
    "    \n",
    "#     for j, clusters in enumerate(history):\n",
    "    clusters = history[-1]\n",
    "    j = len(history) - 1\n",
    "    idx = 0\n",
    "\n",
    "#     if j % 3 != 0:\n",
    "#         continue\n",
    "\n",
    "    plt.cla()\n",
    "\n",
    "    for cluster in clusters:\n",
    "        mu = cluster['mu_k']\n",
    "        cov = cluster['cov_k']\n",
    "\n",
    "        eigenvalues, eigenvectors = np.linalg.eigh(cov)\n",
    "        order = eigenvalues.argsort()[::-1]\n",
    "        eigenvalues, eigenvectors = eigenvalues[order], eigenvectors[:, order]\n",
    "        vx, vy = eigenvectors[:,0][0], eigenvectors[:,0][1]\n",
    "        theta = np.arctan2(vy, vx)\n",
    "\n",
    "        color = colors.to_rgba(colorset[idx])\n",
    "\n",
    "#             for cov_factor in range(1, 4):\n",
    "#                 ell = Ellipse(xy=mu, width=np.sqrt(eigenvalues[2]) * cov_factor * 2, height=np.sqrt(eigenvalues[3]) * cov_factor * 2, angle=np.degrees(theta), linewidth=2)\n",
    "#                 ell.set_facecolor((color[0], color[1], color[2], 1.0 / (cov_factor * 4.5)))\n",
    "#                 ax.add_artist(ell)\n",
    "\n",
    "        ax.scatter(cluster['mu_k'][0], cluster['mu_k'][1], c=colorset[idx], s=1000, marker='+')\n",
    "        idx += 1\n",
    "\n",
    "    for i in range(X.shape[0]):\n",
    "        ax.scatter(X[i, 0], X[i, 1], c=colorset[np.argmax(scores[i])], marker='o')\n",
    "    ax.scatter([5.5], [3.25], c='green', marker='o')\n",
    "    fig.canvas.draw()\n",
    "        \n",
    "#         image = np.frombuffer(fig.canvas.tostring_rgb(), dtype='uint8')\n",
    "#         image = image.reshape(fig.canvas.get_width_height()[::-1] + (3,))\n",
    "\n",
    "#         images.append(image)\n",
    "    \n",
    "#     kwargs_write = {'fps':1.0, 'quantizer':'nq'}\n",
    "#     imageio.mimsave('./gmm.gif', images, fps=1)\n",
    "#     plt.show(Image.open('gmm.gif').convert('RGB'))\n",
    "    \n",
    "    \n",
    "create_cluster_animation(X, history, scores)"
   ]
  },
  {
   "cell_type": "code",
   "execution_count": 164,
   "id": "2a8b9372",
   "metadata": {
    "scrolled": false
   },
   "outputs": [
    {
     "name": "stdout",
     "output_type": "stream",
     "text": [
      "tensor(1)\n",
      "{'pi_k': tensor([0.2992]), 'mu_k': tensor([5.9150, 2.7778, 4.2016, 1.2970]), 'cov_k': tensor([[0.2753, 0.0969, 0.1847, 0.0544],\n",
      "        [0.0969, 0.0926, 0.0911, 0.0430],\n",
      "        [0.1847, 0.0911, 0.2006, 0.0610],\n",
      "        [0.0544, 0.0430, 0.0610, 0.0320]])}\n"
     ]
    }
   ],
   "source": [
    "expectation_step(torch.from_numpy(np.asarray([5.5, 3.25, 2.5, 0.7])).view(1, 4), clusters)\n",
    "print(np.argmax(gamma_nk))\n",
    "# # print(likelihoods)\n",
    "# print(scores[50, :])\n",
    "# print(scores)\n",
    "# print(sample_likelihoods)\n",
    "print(clusters[-1])"
   ]
  },
  {
   "cell_type": "code",
   "execution_count": null,
   "id": "e9e6e85c",
   "metadata": {},
   "outputs": [],
   "source": []
  }
 ],
 "metadata": {
  "kernelspec": {
   "display_name": "Python 3 (ipykernel)",
   "language": "python",
   "name": "python3"
  },
  "language_info": {
   "codemirror_mode": {
    "name": "ipython",
    "version": 3
   },
   "file_extension": ".py",
   "mimetype": "text/x-python",
   "name": "python",
   "nbconvert_exporter": "python",
   "pygments_lexer": "ipython3",
   "version": "3.10.8"
  }
 },
 "nbformat": 4,
 "nbformat_minor": 5
}
