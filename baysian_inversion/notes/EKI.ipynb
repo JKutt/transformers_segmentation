{
 "cells": [
  {
   "attachments": {},
   "cell_type": "markdown",
   "metadata": {},
   "source": [
    "# Complex Resistivity"
   ]
  },
  {
   "attachments": {},
   "cell_type": "markdown",
   "metadata": {},
   "source": [
    "## Bayesian Approach\n",
    "\n",
    "Assume $\\rho^*(x)$ is random. where $\\rho^*(x) = \\rho(x) - i \\rho(x) \\tan(\\varphi (x))$\n",
    "\n",
    "- DC resistivity = $\\rho(x)$\n",
    "- phase angle $\\varphi(x)$\n",
    "\n",
    "These are random factions assumption.\n",
    "\n",
    "Data are unknown and related via:\n",
    "\n",
    "$$\n",
    "d = \\mathcal{F}(\\rho, \\varphi) + \\eta\n",
    "$$\n",
    "\n",
    "where $\\eta$ is random measurement error that follows a Guassian dist. with 0 mean and covariance $\\Sigma$ and $\\mathcal{F}$ is the forward map as a function of $\\rho$ and $\\phi$ "
   ]
  },
  {
   "attachments": {},
   "cell_type": "markdown",
   "metadata": {},
   "source": [
    "## The Posterior\n",
    "\n",
    "Solutions to Bayesian inverse problem is the **Posterior**: $\\mathcal{P}(\\rho, \\varphi | d)$ (conditional dist. given $d$). \n",
    "\n",
    "From Bayes rule:\n",
    "\n",
    "$$\n",
    "\\mathcal{P}(\\rho, \\varphi | d) \\propto \\mathcal{P}(d|\\rho, \\varphi) \\mathcal{P}(\\rho, \\varphi) = \\mathcal{P}(d|\\rho, \\varphi) \\mathcal{P}(\\rho) \\mathcal{P}(\\varphi)\n",
    "$$\n",
    "\n",
    "$\\rho$ and $\\phi$ independent under prior.\n",
    "\n",
    "Here the likelihood of the data is $\\mathcal{P}(d|\\rho, \\varphi)$ and under a Gaussian assumption on $\\eta$ gives:\n",
    "\n",
    "$$\n",
    "\\mathcal{P}(d|\\rho, \\varphi) \\propto \\exp \\left[ \\frac{-1}{2} \\lVert \\Sigma^{\\frac{-1}{2}} (d - \\mathcal{F}(\\rho, \\varphi))\\rVert^2 \\right]\n",
    "$$\n",
    "\n",
    "## Ensemble Kalman Inversion (EKI)\n",
    "Is used to estimate the joint posterior, $\\mathcal{P}(\\rho, \\varphi | d)$ along with the marginal posteriors $\\mathcal{P}(\\rho | d)$ and $\\mathcal{P}(\\varphi | d)$\n",
    "\n",
    "Now approximate the marginal $\\mathcal{P}(\\rho | d)$ using $\\mathcal{P}(d | \\rho, \\varphi = 0)$ giving:\n",
    "\n",
    "$$\n",
    "\\mathcal{P}(\\rho | d) \\propto \\int \\mathcal{P}(d|\\rho, \\varphi) \\mathcal{P}(\\rho) \\mathcal{P}(\\varphi) d\\varphi\n",
    "$$\n",
    "\n",
    "$$\n",
    "\\approx \\int \\mathcal{P}(d|\\rho, \\varphi = 0) \\mathcal{P}(\\rho) \\mathcal{P}(\\varphi) d\\varphi = \\mathcal{P}(d|\\rho, \\varphi = 0) \\mathcal{P}(\\varphi)\n",
    "$$\n",
    "\n",
    "Marginal posterior of phase angle\n",
    "\n",
    "$$\n",
    "\\mathcal{P}(\\varphi | d) \\propto \\int \\mathcal{P}(d|\\rho, \\varphi) \\mathcal{P}(\\rho) \\mathcal{P}(\\varphi) d\\varphi\n",
    "$$\n",
    "\n",
    "$$\n",
    "\\approx \\int \\mathcal{P}(d|\\rho = \\bar{\\rho}, \\varphi) \\mathcal{P}(\\rho) \\mathcal{P}(\\varphi) d\\varphi = \\mathcal{P}(d|\\rho = \\bar{\\rho}, \\varphi) \\mathcal{P}(\\varphi)\n",
    "$$\n",
    "\n",
    "Here $\\bar{\\rho}$ denotes the mean of the marginal posterior $\\mathcal{P}(\\rho | d)$"
   ]
  },
  {
   "attachments": {},
   "cell_type": "markdown",
   "metadata": {},
   "source": [
    "Now sub in the likelihood to get:\n",
    "\n",
    "**DC**\n",
    "$$\n",
    "\\mathcal{P}(\\rho | d) \\propto \\left[ \\frac{-1}{2} \\lVert \\Sigma^{\\frac{-1}{2}} (d - \\mathcal{F}_{\\rho}(\\rho))\\rVert^2 \\right] \\mathcal{P}(\\rho)\n",
    "$$\n",
    "\n",
    "**phase**\n",
    "$$\n",
    "\\mathcal{P}(\\varphi | d) \\propto \\left[ \\frac{-1}{2} \\lVert \\Sigma^{\\frac{-1}{2}} (d - \\mathcal{F}_{\\varphi}(\\varphi))\\rVert^2 \\right] \\mathcal{P}(\\varphi)\n",
    "$$\n"
   ]
  },
  {
   "attachments": {},
   "cell_type": "markdown",
   "metadata": {},
   "source": [
    "Compute marginal posterior for DC keeping phase fixed in the likelihood. Then use a fixed DC for the likelihood in phase marginal posterior.\n",
    "\n",
    "Next use EKI to generate samples from the above. Will show then how to model discontinuous properties. "
   ]
  },
  {
   "attachments": {},
   "cell_type": "markdown",
   "metadata": {},
   "source": [
    "### Parameterization\n",
    "\n",
    "Take $\\rho(x)$ for example, it takes on $n$ unkown resistivity values. so $\\rho_0 ... \\rho_n$ on regions $\\Omega_0 ... \\Omega_n$.\n",
    "\n",
    "These are parameterized thresholding a level-set function $\\xi$\n",
    "\n",
    "This is defined:\n",
    "\n",
    "$$\n",
    "\\Omega_0 = \\left[x : \\xi(x) \\leq \\alpha_0\\right]\n",
    "$$\n",
    "$$\n",
    "\\Omega_1 = \\left[x : \\alpha_0 < \\xi(x) \\leq \\alpha_1\\right]\n",
    "$$\n",
    ".\n",
    "\n",
    ".\n",
    "\n",
    ".\n",
    "$$\n",
    "\\Omega_{n - 1} = \\left[x : \\xi(x) \\alpha_{n-2} < \\xi(x) \\leq \\alpha_{n-1} \\right]\n",
    "$$\n",
    "\n",
    "$$\n",
    "\\Omega_n = \\left[x : \\xi(x) \\leq \\alpha_{n-1}\\right]\n",
    "$$\n",
    "\n",
    " The objective then is that EKI is a derivative free tool for IP with uncertainty.\n",
    "\n",
    " Need trick to handle regions of overlap. (Dorn & Villegas, 2008))"
   ]
  },
  {
   "attachments": {},
   "cell_type": "markdown",
   "metadata": {},
   "source": [
    "Using the marginal posterior can be defined in terms of joint posteriors of $\\rho_0....\\rho_n$ and defined regions $\\xi(x)$ (level setting)\n",
    "\n",
    "Define $\\xi$ as Guassian random fields. Then approximate the re-parameterized marginal posteriors via EKI.\n",
    "\n",
    "define phyical properties:\n",
    "\n",
    "$$\n",
    "u_p(x) = \\left( \\rho_0...\\rho_n, \\nu, L0...L_{n-1}, \\omega(x) \\right)\n",
    "$$\n",
    "\n",
    "One step further is taken and paramerize $\\xi$ using stochastic pde's (2D realisations of GRFs)\n",
    "\n",
    "$$\n",
    "P(u_p) = P^{LS}\\left(\\rho_0...\\rho_n, P^{GRF}(\\nu, L0...L_{n-1}, \\omega(x))\\right)\n",
    "$$"
   ]
  },
  {
   "attachments": {},
   "cell_type": "markdown",
   "metadata": {},
   "source": [
    "**Approximate Posterior**\n",
    "\n",
    "$$\n",
    "\\mathcal{P}(u_\\rho | d) \\propto \\exp \\left[ \\frac{-1}{2} \\lVert \\Sigma^{\\frac{-1}{2}} (d - \\mathcal{F}_{\\rho}(P(u_\\rho)))\\rVert^2 \\right] \\mathcal{P}(u_p)\n",
    "$$\n",
    "\n",
    "where $\\mathcal{P}(u_p)$ is the prior which is the prior info of each parameters."
   ]
  },
  {
   "cell_type": "markdown",
   "metadata": {},
   "source": []
  },
  {
   "cell_type": "code",
   "execution_count": null,
   "metadata": {},
   "outputs": [],
   "source": []
  }
 ],
 "metadata": {
  "kernelspec": {
   "display_name": "jresearch",
   "language": "python",
   "name": "python3"
  },
  "language_info": {
   "codemirror_mode": {
    "name": "ipython",
    "version": 3
   },
   "file_extension": ".py",
   "mimetype": "text/x-python",
   "name": "python",
   "nbconvert_exporter": "python",
   "pygments_lexer": "ipython3",
   "version": "3.10.8"
  },
  "orig_nbformat": 4,
  "vscode": {
   "interpreter": {
    "hash": "2db6500213482376817449ea91b8746aa94c3122574fd52cc2ce74381cf41417"
   }
  }
 },
 "nbformat": 4,
 "nbformat_minor": 2
}
