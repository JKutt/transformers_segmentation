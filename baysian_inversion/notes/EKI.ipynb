{
 "cells": [
  {
   "cell_type": "code",
   "execution_count": null,
   "metadata": {},
   "outputs": [],
   "source": []
  },
  {
   "attachments": {},
   "cell_type": "markdown",
   "metadata": {},
   "source": [
    "## Bayesian Approach\n",
    "\n",
    "Assume $\\rho^*(x)$ is random. where $\\rho^*(x) = \\rho(x) - i \\rho(x) \\tan(\\varphi (x))$\n",
    "\n",
    "- DC resistivity = $\\rho(x)$\n",
    "- phase angle $\\varphi(x)$\n",
    "\n",
    "These are random factions assumption.\n",
    "\n",
    "Data are unknown and related via:\n",
    "\n",
    "$$\n",
    "d = \\mathcal{F}(\\rho, \\varphi) + \\eta\n",
    "$$\n",
    "\n",
    "$\\eta$ is random measurement error that follows a Guassian dist. with 0 mean and covariance $\\Sigma$ and $\\mathcal{F}$ is the forward map as a function of $\\rho$ and $\\phi$ "
   ]
  },
  {
   "attachments": {},
   "cell_type": "markdown",
   "metadata": {},
   "source": [
    "### The Posterior\n",
    "\n",
    "Solutions to Bayesian inverse problem is the **Posterior**: $\\mathcal{P}(\\rho, \\varphi | d)$ (conditional dist. given $d$). Where from Bayes rule:\n",
    "\n",
    "$$\n",
    "\\mathcal{P}(\\rho, \\varphi | d) \\propto \\mathcal{P}(d|\\rho, \\varphi) \\mathcal{P}(\\rho, \\varphi) = \\mathcal{P}(d|\\rho, \\varphi) \\mathcal{P}(\\rho) \\mathcal{P}(\\varphi)\n",
    "$$\n",
    "\n",
    "$\\rho$ and $\\phi$ independent under prior.\n",
    "\n",
    "Here the likelihood of the data is $\\mathcal{P}(d|\\rho, \\varphi)$ and under a Gaussian assumption on $\\eta$ gives:\n",
    "\n",
    "$$\n",
    "\\mathcal{P}(d|\\rho, \\varphi) \\propto \\exp \\left[ \\frac{-1}{2} \\lVert \\Sigma^{\\frac{-1}{2}} (d - \\mathcal{F}(\\rho, \\varphi))\\rVert^2 \\right]\n",
    "$$\n",
    "\n",
    "**Ensemble Kalman Inversion (EKI)** can be used to estimate the joint posterior, $\\mathcal{P}(\\rho, \\varphi | d)$ along with the marginal posteriors $\\mathcal{P}(\\rho | d)$ and $\\mathcal{P}(\\varphi | d)$\n",
    "\n",
    "Now approximate the marginal $\\mathcal{P}(\\rho | d)$ using $\\mathcal{P}(d | \\rho,, \\varphi = 0)$ giving:\n",
    "\n",
    "$$\n",
    "\\mathcal{P}(\\rho | d) \\propto \\int \\mathcal{P}(d|\\rho, \\varphi) \\mathcal{P}(\\rho) \\mathcal{P}(\\varphi) d\\varphi\n",
    "$$\n",
    "\n",
    "$$\n",
    "\\approx \\int \\mathcal{P}(d|\\rho, \\varphi = 0) \\mathcal{P}(\\rho) \\mathcal{P}(\\varphi) d\\varphi = \\mathcal{P}(d|\\rho, \\varphi = 0) \\mathcal{P}(\\varphi)\n",
    "$$\n",
    "\n",
    "Marginal posterior of phase angle\n",
    "\n",
    "$$\n",
    "\\mathcal{P}(\\varphi | d) \\propto \\int \\mathcal{P}(d|\\rho, \\varphi) \\mathcal{P}(\\rho) \\mathcal{P}(\\varphi) d\\varphi\n",
    "$$\n",
    "\n",
    "$$\n",
    "\\approx \\int \\mathcal{P}(d|\\rho = \\bar{\\rho}, \\varphi) \\mathcal{P}(\\rho) \\mathcal{P}(\\varphi) d\\varphi = \\mathcal{P}(d|\\rho = \\bar{\\rho}, \\varphi) \\mathcal{P}(\\varphi)\n",
    "$$\n",
    "\n",
    "Here $\\bar{\\rho}$ denotes the mean of the marginal posterior $\\mathcal{P}(\\rho | d)$"
   ]
  },
  {
   "attachments": {},
   "cell_type": "markdown",
   "metadata": {},
   "source": [
    "Now sub in the likelihood to get:\n",
    "\n",
    "**DC**\n",
    "$$\n",
    "\\mathcal{P}(\\rho | d) \\propto \\left[ \\frac{-1}{2} \\lVert \\Sigma^{\\frac{-1}{2}} (d - \\mathcal{F}_{\\rho}(\\rho))\\rVert^2 \\right] \\mathcal{P}(\\rho)\n",
    "$$\n",
    "\n",
    "**phase**\n",
    "$$\n",
    "\\mathcal{P}(\\varphi | d) \\propto \\left[ \\frac{-1}{2} \\lVert \\Sigma^{\\frac{-1}{2}} (d - \\mathcal{F}_{\\varphi}(\\varphi))\\rVert^2 \\right] \\mathcal{P}(\\varphi)\n",
    "$$\n"
   ]
  },
  {
   "cell_type": "markdown",
   "metadata": {},
   "source": []
  },
  {
   "cell_type": "markdown",
   "metadata": {},
   "source": []
  }
 ],
 "metadata": {
  "language_info": {
   "name": "python"
  },
  "orig_nbformat": 4
 },
 "nbformat": 4,
 "nbformat_minor": 2
}
