{
 "cells": [
  {
   "cell_type": "markdown",
   "id": "772689ae",
   "metadata": {},
   "source": [
    "# MT1D layered earth: Sharp and Smooth features with PGI\n",
    "\n",
    "\n",
    "## A notebook reproducing the 1D MT PGI notebook 1_MT_PGI_Sharp_Smooth\n",
    "\n",
    "### Synopsis\n",
    "Magnetotelluric data are acquired over a layered-earth that has sharp and smooth features. The earth model consists of a background unit of $0.01~\\text{S/m}$, a $900~\\text{m}$ thick resistive unit with sharp contrast starting at a depth of $100~\\text{m}$ with a conductivity of $5\\cdot10^{-3}~\\text{S/m}$ (or $200~\\Omega \\text{m}$), and a deeper smooth conductor with a minimum resistivity of $10~\\Omega \\text{m}$, starting at a depth of $2,300~\\text{m}$ and finishing at a depth of $7,560~\\text{m}$. We discretize this model on a $89$ cells.\n",
    "\n",
    "This notebook is to reproduce the previous PGI work to ensure the mechanics in SimPEG are producing similar results as before.\n"
   ]
  },
  {
   "cell_type": "code",
   "execution_count": 1,
   "id": "7da759e1",
   "metadata": {},
   "outputs": [],
   "source": [
    "# Initial import\n",
    "from scipy.constants import mu_0\n",
    "import scipy.sparse as sp\n",
    "import discretize\n",
    "from SimPEG.electromagnetics import natural_source as nsem\n",
    "from SimPEG import (\n",
    "    maps, utils, optimization, inversion, inverse_problem, directives,\n",
    "    data_misfit, regularization, data\n",
    ")\n",
    "from discretize import TensorMesh\n",
    "from pymatsolver import Pardiso\n",
    "import numpy as np\n",
    "import matplotlib.pyplot as plt\n",
    "import matplotlib.patheffects as pe\n",
    "from matplotlib.ticker import StrMethodFormatter,FormatStrFormatter\n",
    "from sklearn.mixture import GaussianMixture\n",
    "import sys\n",
    "import copy\n"
   ]
  },
  {
   "cell_type": "markdown",
   "id": "b19ac0d5",
   "metadata": {},
   "source": [
    "### Mesh setup"
   ]
  },
  {
   "cell_type": "code",
   "execution_count": 2,
   "id": "b435f0e9",
   "metadata": {},
   "outputs": [],
   "source": [
    "# Note - taken from utilities of previous notebook\n",
    "def setMesh(frequency: np.array,\n",
    "            sigma: float=0.1, \n",
    "            max_depth_core: float=3000.,\n",
    "            ncell_per_skind: int=10,\n",
    "            n_skind: int=2,\n",
    "            core_meshType: str=\"linear\",\n",
    "            max_hz_core: float=None):\n",
    "\n",
    "    \"\"\"\n",
    "    Set 1D Mesh based using skin depths\n",
    "    \"\"\"\n",
    "    rho = 1./sigma\n",
    "    fmin, fmax = frequency.min(), frequency.max()\n",
    "    print (\n",
    "        (\">> Smallest cell size = %d m\") % (500*np.sqrt(rho/fmax) / ncell_per_skind)\n",
    "        )\n",
    "    print (\n",
    "        (\">> Padding distance = %d m\") % (500*np.sqrt(rho/fmin) * n_skind)\n",
    "        )\n",
    "    cs = 500*np.sqrt(rho/fmax) / ncell_per_skind\n",
    "    length_bc = 500*np.sqrt(100/fmin) * n_skind\n",
    "\n",
    "    if core_meshType == \"linear\":\n",
    "\n",
    "        max_hz_core = cs\n",
    "\n",
    "    elif core_meshType == \"log\":\n",
    "\n",
    "        if max_hz_core is None:\n",
    "            max_hz_core  = cs * 10\n",
    "\n",
    "        ncz = 2\n",
    "        hz_core = np.logspace(np.log10(cs), np.log10(max_hz_core), ncz)\n",
    "\n",
    "        while hz_core.sum() < max_depth_core:\n",
    "            ncz += 1\n",
    "            hz_core = np.logspace(np.log10(cs), np.log10(max_hz_core), ncz)\n",
    "\n",
    "    npad = 1\n",
    "    blength = max_hz_core*1.3**(np.arange(npad)+1)\n",
    "\n",
    "    while blength < length_bc:\n",
    "        npad += 1\n",
    "        blength = (max_hz_core*1.3**(np.arange(npad)+1)).sum()\n",
    "    print (\n",
    "        (\">> # of padding cells %d\") % (npad)\n",
    "    )\n",
    "\n",
    "    if core_meshType == \"linear\":\n",
    "        ncz = int(max_depth_core / cs)\n",
    "        hz = [(cs, npad, -1.3), (cs, ncz)]\n",
    "    elif core_meshType == \"log\":\n",
    "        hz_pad = max_hz_core * 1.3**(np.arange(npad)+1)\n",
    "        hz = np.r_[hz_pad[::-1], hz_core[::-1]]\n",
    "\n",
    "    print (\n",
    "        (\">> # of core cells cells %d\") % (ncz)\n",
    "        )\n",
    "    mesh = TensorMesh([hz], x0='N')\n",
    "\n",
    "    return mesh\n"
   ]
  },
  {
   "cell_type": "markdown",
   "id": "a038864f",
   "metadata": {},
   "source": [
    "### Model and Simulation Setup"
   ]
  },
  {
   "cell_type": "code",
   "execution_count": 3,
   "id": "07913c63",
   "metadata": {},
   "outputs": [
    {
     "name": "stdout",
     "output_type": "stream",
     "text": [
      ">> Smallest cell size = 7 m\n",
      ">> Padding distance = 316227 m\n",
      ">> # of padding cells 17\n",
      ">> # of core cells cells 72\n"
     ]
    },
    {
     "name": "stderr",
     "output_type": "stream",
     "text": [
      "/home/juan/anaconda3/envs/inversion/lib/python3.9/site-packages/discretize/utils/code_utils.py:217: FutureWarning: TensorMesh.plotGrid has been deprecated, please use TensorMesh.plot_grid. It will be removed in version 1.0.0 of discretize.\n",
      "  warnings.warn(\n",
      "/home/juan/anaconda3/envs/inversion/lib/python3.9/site-packages/discretize/utils/code_utils.py:182: FutureWarning: TensorMesh.vectorCCx has been deprecated, please use TensorMesh.cell_centers_x. It will be removed in version 1.0.0 of discretize.\n",
      "  warnings.warn(message, Warning)\n",
      "/home/juan/anaconda3/envs/inversion/lib/python3.9/site-packages/discretize/utils/code_utils.py:217: FutureWarning: TensorMesh.getInterpolationMat has been deprecated, please use TensorMesh.get_interpolation_matrix. It will be removed in version 1.0.0 of discretize.\n",
      "  warnings.warn(\n"
     ]
    },
    {
     "data": {
      "image/png": "[encoded data removed]",
      "text/plain": [
       "<Figure size 576x216 with 1 Axes>"
      ]
     },
     "metadata": {
      "needs_background": "light"
     },
     "output_type": "display_data"
    }
   ],
   "source": [
    "# Initialize the Earth-model\n",
    "layer_tops = np.r_[0., -100., -1000.]  # in m\n",
    "rho_layers = np.r_[100., 200., 100.]\n",
    "\n",
    "# Initialize the survey\n",
    "rx_loc = np.r_[0.]\n",
    "frequencies = np.logspace(-3, 3, 25)\n",
    "\n",
    "# Create a receiver object list\n",
    "rx_list = [\n",
    "\n",
    "    nsem.receivers.PointNaturalSource(\n",
    "        rx_loc, orientation=\"yx\", component=\"real\"\n",
    "    ),\n",
    "    nsem.receivers.PointNaturalSource(\n",
    "        rx_loc, orientation=\"yx\", component=\"imaginary\"\n",
    "    ),\n",
    "\n",
    "]\n",
    "\n",
    "# create the source list\n",
    "src_list = [nsem.sources.Planewave(rx_list, frequency=f) for f in frequencies]\n",
    "\n",
    "# Define the mesh\n",
    "max_depth_core = 15000.\n",
    "mesh = setMesh(\n",
    "    \n",
    "    frequencies,\n",
    "    sigma=0.01,  # approximate conductivity of the background\n",
    "    max_depth_core=max_depth_core,  # extent of the core region of the mesh\n",
    "    ncell_per_skind=20,  # number of cells per the smallest skin depth\n",
    "    n_skind=2,  # number of skin depths that the mesh should extend to ensure the lowest-frequency fields have decayed\n",
    "    core_meshType=\"log\",   # cell spacings in the core region of the mesh (\"linear\" or \"log\")\n",
    "    max_hz_core=1000.  # If using a logarithmic core mesh, what is the maximum cell size?\n",
    " \n",
    ")\n",
    "\n",
    "# plot the mesh\n",
    "fig, ax = plt.subplots(1,1, figsize=(8, 3))\n",
    "mesh.plotGrid(centers=True, faces=True, ax=ax)\n",
    "ax.legend([\"centers\", \"faces\"])\n",
    "ax.invert_xaxis()  # so that the surface is on our left hand side\n",
    "ax.set_xlabel('z (m)')\n",
    "ax.grid(which=\"both\", linewidth=0.5)\n",
    "\n",
    "# define a survey\n",
    "survey = nsem.Survey(src_list)\n",
    "\n",
    "# Create the simulation\n",
    "sim = nsem.simulation.Simulation1DMagneticField(\n",
    "    mesh,\n",
    "    survey=survey,\n",
    "    sigmaMap=maps.ExpMap(mesh),\n",
    "    solver=Pardiso,\n",
    ")\n",
    "\n",
    "# start with nans so we can do a check to make sure all\n",
    "# layer conductivities have been properly assigned\n",
    "rho = np.ones(mesh.nC) * np.nan\n",
    "\n",
    "# loop over each layer in the model and assign to mesh\n",
    "for layer_top, rho_layer in zip(layer_tops, rho_layers):\n",
    "    inds = mesh.vectorCCx < layer_top\n",
    "    rho[inds] = rho_layer\n",
    "\n",
    "# Add a smooth unit\n",
    "sigma = 1./rho\n",
    "mtrue = np.log(sigma)\n",
    "t = (mesh.vectorCCx+5000.)/5e3\n",
    "indx = np.abs(t) < 1\n",
    "maux = copy.deepcopy(mtrue)\n",
    "maux[indx] = (np.log(1./100.)*(1-(((1-t**2.)**2.)))-np.log(10))[indx]\n",
    "indx = np.logical_and(indx, maux > np.log(1./rho_layers[2]))\n",
    "mtrue[indx] = maux[indx]\n",
    "dtrue = sim.dpred(mtrue)  # these are clean data (no noise yet.)\n",
    "\n",
    "std = 0.05  # standard deviation of the noise (10%)\n",
    "\n",
    "# add noise\n",
    "uncertTrue = std * np.abs(dtrue)\n",
    "noise = uncertTrue * np.random.randn(frequencies.shape[0] * 2)\n",
    "survey.dobs = dtrue + noise\n",
    "survey.std = uncertTrue # changed this from original notebook\n",
    "survey.eps = 0.\n",
    "uncert = std * np.abs(survey.dobs)\n"
   ]
  },
  {
   "cell_type": "code",
   "execution_count": 4,
   "id": "a92f8cfc",
   "metadata": {},
   "outputs": [
    {
     "data": {
      "image/png": "[encoded data removed]",
      "text/plain": [
       "<Figure size 540x216 with 1 Axes>"
      ]
     },
     "metadata": {
      "needs_background": "light"
     },
     "output_type": "display_data"
    }
   ],
   "source": [
    "# Plot the true model\n",
    "fig0 = plt.figure(figsize=(7.5,3))\n",
    "ax1 = fig0.add_subplot(111)\n",
    "\n",
    "fontsize=16\n",
    "M = sim.mesh\n",
    "\n",
    "plt.loglog(-M.vectorCCx, np.exp(mtrue), 'ko-',linewidth=3,label='True Model',ms=7)\n",
    "plt.legend(fontsize=fontsize,loc=0)\n",
    "plt.gca().set_ylim([10**(-2.5),10**(-0.5)])\n",
    "plt.gca().set_xlabel('Depth (m)',fontsize=fontsize)\n",
    "plt.gca().tick_params(labelsize=fontsize)\n",
    "plt.gca().set_ylabel('Conductivity (S/m)',fontsize=fontsize)\n",
    "plt.show()\n"
   ]
  },
  {
   "cell_type": "code",
   "execution_count": 5,
   "id": "18e28b1e",
   "metadata": {},
   "outputs": [
    {
     "data": {
      "image/png": "[encoded data removed]",
      "text/plain": [
       "<Figure size 432x288 with 1 Axes>"
      ]
     },
     "metadata": {
      "needs_background": "light"
     },
     "output_type": "display_data"
    }
   ],
   "source": [
    "survey.std = uncert\n",
    "plt.plot(survey.dobs, '.')\n",
    "plt.plot(survey.std, '.g')\n",
    "plt.legend(['synthetic data + noise', 'std'])\n",
    "plt.title('Impedance data')\n",
    "plt.show()\n",
    "data_t = data.Data(survey, dobs=survey.dobs, standard_deviation=survey.std)"
   ]
  },
  {
   "cell_type": "markdown",
   "id": "f9689137",
   "metadata": {},
   "source": [
    "## Tikhonov Inversion"
   ]
  },
  {
   "cell_type": "code",
   "execution_count": 20,
   "id": "8215777d",
   "metadata": {},
   "outputs": [
    {
     "name": "stdout",
     "output_type": "stream",
     "text": [
      "\n",
      "        SimPEG.InvProblem is setting bfgsH0 to the inverse of the eval2Deriv.\n",
      "        ***Done using same Solver and solverOpts as the problem***\n",
      "model has any nan: 0\n",
      "=============================== Projected GNCG ===============================\n",
      "  #     beta     phi_d     phi_m       f      |proj(x-g)-x|  LS    Comment   \n",
      "-----------------------------------------------------------------------------\n",
      "x0 has any nan: 0\n"
     ]
    },
    {
     "name": "stderr",
     "output_type": "stream",
     "text": [
      "/home/juan/anaconda3/envs/inversion/lib/python3.9/site-packages/pymatsolver/direct.py:23: PardisoTypeConversionWarning: Converting csc_matrix matrix to CSR format, will slow down.\n",
      "  self.solver = MKLPardisoSolver(\n"
     ]
    },
    {
     "name": "stdout",
     "output_type": "stream",
     "text": [
      "   0  4.00e-01  2.76e+03  0.00e+00  2.76e+03    8.43e+02      0              \n"
     ]
    },
    {
     "name": "stderr",
     "output_type": "stream",
     "text": [
      "/home/juan/anaconda3/envs/inversion/lib/python3.9/site-packages/pymatsolver/direct.py:73: PardisoTypeConversionWarning: Converting csc_matrix matrix to CSR format, will slow down.\n",
      "  self.solver.refactor(self.A)\n"
     ]
    },
    {
     "name": "stdout",
     "output_type": "stream",
     "text": [
      "   1  2.67e-01  9.38e+01  1.38e+02  1.31e+02    6.07e+01      0              \n",
      "   2  1.78e-01  3.44e+01  1.35e+02  5.84e+01    3.56e+01      0              \n",
      "   3  1.19e-01  2.75e+01  1.33e+02  4.33e+01    3.05e+00      0              \n",
      "   4  7.90e-02  2.65e+01  1.39e+02  3.75e+01    2.50e+00      0   Skip BFGS  \n",
      "   5  5.27e-02  2.59e+01  1.46e+02  3.36e+01    2.00e+00      0   Skip BFGS  \n",
      "   6  3.51e-02  2.53e+01  1.55e+02  3.07e+01    1.58e+00      0   Skip BFGS  \n",
      "------------------------- STOP! -------------------------\n",
      "1 : |fc-fOld| = 0.0000e+00 <= tolF*(1+|f0|) = 2.7636e+02\n",
      "0 : |xc-x_last| = 2.0602e-01 <= tolX*(1+|x0|) = 4.4445e-05\n",
      "0 : |proj(x-g)-x|    = 1.5799e+00 <= tolG          = 1.0000e-01\n",
      "0 : |proj(x-g)-x|    = 1.5799e+00 <= 1e3*eps       = 1.0000e-02\n",
      "0 : maxIter   =      35    <= iter          =      7\n",
      "------------------------- DONE! -------------------------\n"
     ]
    }
   ],
   "source": [
    "# Simple Inversion\n",
    "##################\n",
    "\n",
    "# Set the initial and reference models\n",
    "sigma_ref = 1./rho_layers[0]  # reference conductivity\n",
    "sigma_0 = 1./rho_layers[0]  # starting conductivity\n",
    "\n",
    "# translate the starting and reference model to log-conductivity\n",
    "mref = np.log(sigma_ref)*np.ones(mesh.nC)\n",
    "m0 = np.log(sigma_0)*np.ones(mesh.nC)\n",
    "\n",
    "# Set weighting parameters\n",
    "alpha_s = 1e-2  # smallness contribution\n",
    "alpha_z = 20000.  # smoothness contribution to the regularization\n",
    "beta = 4e-1  # Initial beta\n",
    "beta0_ratio = 100.   # starting contribution of regularization 100x larger than the data misfit\n",
    "coolingFactor = 1.5\n",
    "coolingRate = 1\n",
    "\n",
    "# Data misfit\n",
    "dmisfit = data_misfit.L2DataMisfit(data=data_t, simulation=sim)\n",
    "dmisfit.W = 1./uncert\n",
    "\n",
    "# Regularization\n",
    "reg = regularization.Tikhonov(\n",
    "        sim.mesh, alpha_s=alpha_s, alpha_x=alpha_z, mref=mref\n",
    "    )  # since we are in 1D, we work with the first dimension\n",
    "\n",
    "# Optimization\n",
    "opt = optimization.ProjectedGNCG(\n",
    "    maxIter=35, tolX=1e-6, maxIterCG=100, tolCG=1e-3)\n",
    "opt.remember('xc')\n",
    "\n",
    "# Statement of the inverse problem\n",
    "invProb = inverse_problem.BaseInvProblem(dmisfit, reg, opt)\n",
    "invProb.beta = beta\n",
    "\n",
    "# Inversion Directives\n",
    "beta = directives.BetaSchedule(\n",
    "        coolingFactor=coolingFactor, coolingRate=coolingRate\n",
    "    )\n",
    "target = directives.TargetMisfit()\n",
    "directives_list = [beta, target]\n",
    "\n",
    "# assemble in an inversion\n",
    "inv = inversion.BaseInversion(invProb, directiveList=directives_list)\n",
    "# prob.counter = opt.counter = Utils.Counter()\n",
    "opt.remember('xc')\n",
    "\n",
    "# run the inversion\n",
    "l2model = inv.run(m0)"
   ]
  },
  {
   "cell_type": "code",
   "execution_count": 21,
   "id": "f0784244",
   "metadata": {},
   "outputs": [
    {
     "name": "stderr",
     "output_type": "stream",
     "text": [
      "/home/juan/anaconda3/envs/inversion/lib/python3.9/site-packages/discretize/utils/code_utils.py:182: FutureWarning: TensorMesh.vectorCCx has been deprecated, please use TensorMesh.cell_centers_x. It will be removed in version 1.0.0 of discretize.\n",
      "  warnings.warn(message, Warning)\n",
      "/home/juan/anaconda3/envs/inversion/lib/python3.9/site-packages/discretize/utils/code_utils.py:182: FutureWarning: TensorMesh.vectorCCx has been deprecated, please use TensorMesh.cell_centers_x. It will be removed in version 1.0.0 of discretize.\n",
      "  warnings.warn(message, Warning)\n",
      "/home/juan/anaconda3/envs/inversion/lib/python3.9/site-packages/discretize/utils/code_utils.py:182: FutureWarning: TensorMesh.vectorCCx has been deprecated, please use TensorMesh.cell_centers_x. It will be removed in version 1.0.0 of discretize.\n",
      "  warnings.warn(message, Warning)\n"
     ]
    },
    {
     "data": {
      "image/png": "[encoded data removed]",
      "text/plain": [
       "<Figure size 540x216 with 1 Axes>"
      ]
     },
     "metadata": {
      "needs_background": "light"
     },
     "output_type": "display_data"
    }
   ],
   "source": [
    "M = mesh\n",
    "fontsize=16\n",
    "fig,ax0 = plt.subplots(1,1,figsize=(7.5,3))\n",
    "ax0.loglog(-M.vectorCCx, np.exp(mtrue),color='black', linewidth=5.)\n",
    "ax0.loglog(-M.vectorCCx, np.exp(l2model),color='b', linewidth=3.)\n",
    "ax0.loglog(-M.vectorCCx, np.exp(m0),\n",
    "             color='black',\n",
    "             linestyle='dashed',\n",
    "          linewidth=2)\n",
    "\n",
    "plt.legend(['True Model',\n",
    "            'mref',\n",
    "            'Petro',\n",
    "            'L2 model'],fontsize=fontsize,loc=0)\n",
    "plt.gca().set_ylim([10**(-2.5),10**(-0.5)])\n",
    "\n",
    "\n",
    "plt.gca().set_xlabel('Depth (m)',fontsize=fontsize)\n",
    "plt.gca().tick_params(labelsize=fontsize)\n",
    "plt.gca().set_ylabel('Conductivity (S/m)',fontsize=fontsize)\n",
    "ax0.legend(('True Model', 'Tikhonov', 'mref'),loc=0,fontsize=fontsize)\n",
    "ax0.set_xlabel(\"Depth(m)\",fontsize=fontsize)\n",
    "fig.canvas.draw()\n",
    "ax0.set_ylabel(\"Conductivity(S/m)\",fontsize=fontsize)\n",
    "ax0.tick_params(labelsize=fontsize)"
   ]
  },
  {
   "cell_type": "markdown",
   "id": "2018a7a4",
   "metadata": {},
   "source": [
    "## PGI"
   ]
  },
  {
   "cell_type": "code",
   "execution_count": 22,
   "id": "0a1c0ee5",
   "metadata": {},
   "outputs": [
    {
     "name": "stderr",
     "output_type": "stream",
     "text": [
      "/home/juan/anaconda3/envs/inversion/lib/python3.9/site-packages/discretize/utils/code_utils.py:182: FutureWarning: TensorMesh.vol has been deprecated, please use TensorMesh.cell_volumes. It will be removed in version 1.0.0 of discretize.\n",
      "  warnings.warn(message, Warning)\n"
     ]
    }
   ],
   "source": [
    "# Compute the GMM parameters for each units\n",
    "bckgdmean = -np.log(100)\n",
    "bckgrdvar = 0.01\n",
    "bckgrdprop = np.sum(mesh.vol[np.isclose(bckgdmean,mtrue)])/np.sum(mesh.vol)\n",
    "\n",
    "resmean = -np.log(200)\n",
    "resvar = 0.01\n",
    "resprop = np.sum(mesh.vol[np.isclose(resmean,mtrue)])/np.sum(mesh.vol)\n",
    "\n",
    "values = maux[indx]\n",
    "weights = mesh.vol[indx]\n",
    "\n",
    "# determine the mean and variance\n",
    "cond_mean = np.average(values, weights=weights)\n",
    "\n",
    "# Fast and numerically precise:\n",
    "cond_variance = np.average((values - cond_mean)**2., weights=weights)\n",
    "\n",
    "cond_prop = 1. -(bckgrdprop + resprop)"
   ]
  },
  {
   "cell_type": "code",
   "execution_count": 23,
   "id": "acf11a3a",
   "metadata": {},
   "outputs": [
    {
     "data": {
      "image/png": "[encoded data removed]",
      "text/plain": [
       "<Figure size 432x288 with 1 Axes>"
      ]
     },
     "metadata": {
      "needs_background": "light"
     },
     "output_type": "display_data"
    },
    {
     "name": "stdout",
     "output_type": "stream",
     "text": [
      "0.44627184339637394\n"
     ]
    }
   ],
   "source": [
    "plt.plot(weights, '.')\n",
    "plt.show()\n",
    "print(cond_variance)"
   ]
  },
  {
   "cell_type": "markdown",
   "id": "c68fffab",
   "metadata": {},
   "source": [
    "## Create the Prior GMM"
   ]
  },
  {
   "cell_type": "code",
   "execution_count": 30,
   "id": "8520f16e",
   "metadata": {},
   "outputs": [],
   "source": [
    "# ==================================================================\n",
    "\n",
    "# Create the Prior GMM\n",
    "\n",
    "#\n",
    "\n",
    "gmmref = utils.WeightedGaussianMixture(\n",
    "    \n",
    "    n_components=3,\n",
    "    mesh=mesh,\n",
    "    covariance_type='full',\n",
    "    max_iter=1000,\n",
    "    n_init=1,\n",
    "    reg_covar=4e-3,\n",
    "\n",
    ")\n",
    "\n",
    "gmmref.fit(mtrue.reshape(-1, 1))\n",
    "\n",
    "gmmref.means = np.c_[[-np.log(100)], [cond_mean], [-np.log(200)]]\n",
    "\n",
    "gmmref.covariances_ = np.array([[[0.01]],\n",
    "                             [[cond_variance]],\n",
    "                             [[0.01]],\n",
    "                             ])\n",
    "\n",
    "gmmref.compute_clusters_precisions()\n",
    "                     \n",
    "gmmref.weights_ = np.r_[bckgrdprop, cond_prop, resprop]\n"
   ]
  },
  {
   "cell_type": "code",
   "execution_count": 31,
   "id": "300cec7a",
   "metadata": {},
   "outputs": [
    {
     "name": "stderr",
     "output_type": "stream",
     "text": [
      "/home/juan/anaconda3/envs/inversion/lib/python3.9/site-packages/discretize/utils/code_utils.py:182: FutureWarning: TensorMesh.vol has been deprecated, please use TensorMesh.cell_volumes. It will be removed in version 1.0.0 of discretize.\n",
      "  warnings.warn(message, Warning)\n"
     ]
    },
    {
     "data": {
      "image/png": "[encoded data removed]",
      "text/plain": [
       "<Figure size 540x216 with 2 Axes>"
      ]
     },
     "metadata": {
      "needs_background": "light"
     },
     "output_type": "display_data"
    }
   ],
   "source": [
    "# Plot the Prior GMM distribution\n",
    "fig0, (ax, ax3) = plt.subplots(2, 1, sharex=True,figsize=(7.5,3))\n",
    "fontsize=16\n",
    "M = sim.mesh\n",
    "testXplot = np.linspace(-7.,-1.,1000)[:,np.newaxis];\n",
    "clfinv = gmmref\n",
    "log_dens0 = gmmref.score_samples(testXplot);\n",
    "log_dens = clfinv.score_samples(testXplot);\n",
    "ax3.plot(np.log10(np.exp(testXplot)), np.exp(log_dens0),linewidth =3.,color='black',\n",
    "         path_effects=[pe.Stroke(linewidth=4, foreground='w'), pe.Normal()]\n",
    "        )\n",
    "\n",
    "ax3.set_xticks([-3,-2,-1])\n",
    "ax3.tick_params(labelsize=fontsize)\n",
    "ax3.xaxis.set_major_formatter(FormatStrFormatter('$10^{%.0f}$'))\n",
    "ax3.set_xlabel('Conductivity(S/m)',fontsize=fontsize)\n",
    "ax3.hist(np.log10(np.exp((mtrue))),density = True, bins = 20,color='k',ec='k', weights=mesh.vol);\n",
    "ax3.set_ylim([0.,0.1])\n",
    "ax3.set_ylabel(\"Probability Density\",fontsize=fontsize)\n",
    "\n",
    "ax.hist(np.log10(np.exp((mtrue))),density = True, bins = 20,color='k',ec='k', weights=mesh.vol/np.sum(mesh.vol));\n",
    "ax.tick_params(labelsize=fontsize)\n",
    "ax.plot(np.log10(np.exp(testXplot)), np.exp(log_dens0),linewidth =3.,color='black',\n",
    "         path_effects=[pe.Stroke(linewidth=4, foreground='w'), pe.Normal()]\n",
    "        )\n",
    "\n",
    "ax.set_ylim([1.,4.])\n",
    "ax.set_yticks([1,2,3,4])\n",
    "ax.legend(['Prior Distribution','True Model\\nWeighted Histogram','$m_0$ Hist'],loc=1,fontsize=fontsize)\n",
    "\n",
    "d = .015  # how big to make the diagonal lines in axes coordinates\n",
    "# arguments to pass to plot, just so we don't keep repeating them\n",
    "kwargs = dict(transform=ax.transAxes, color='k', clip_on=False)\n",
    "ax.plot((-d, +d), (-d, +d), **kwargs)        # top-left diagonal\n",
    "ax.plot((1 - d, 1 + d), (-d, +d), **kwargs)  # top-right diagonal\n",
    "\n",
    "kwargs.update(transform=ax3.transAxes)  # switch to the bottom axes\n",
    "ax3.plot((-d, +d), (1 - d, 1 + d), **kwargs)  # bottom-left diagonal\n",
    "ax3.plot((1 - d, 1 + d), (1 - d, 1 + d), **kwargs)  # bottom-right diagonal\n",
    "\n",
    "plt.show()"
   ]
  },
  {
   "cell_type": "code",
   "execution_count": 26,
   "id": "c950cf96",
   "metadata": {},
   "outputs": [
    {
     "data": {
      "image/png": "[encoded data removed]",
      "text/plain": [
       "<Figure size 576x576 with 1 Axes>"
      ]
     },
     "metadata": {
      "needs_background": "light"
     },
     "output_type": "display_data"
    }
   ],
   "source": [
    "# Plot the 2D GMM\n",
    "ax = gmmref.plot_pdf(flag2d=False)\n",
    "ax[0].set_xlabel(\"conductivity contrast [S/m]\")\n",
    "ax[0].set_ylim([0, 5])\n",
    "# ax[2].set_ylabel(\"magnetic Susceptibility [SI]\")\n",
    "# ax[2].set_xlim([0, 100])\n",
    "plt.show()"
   ]
  },
  {
   "cell_type": "markdown",
   "id": "032c4783",
   "metadata": {},
   "source": [
    "## Create PGI regularization"
   ]
  },
  {
   "cell_type": "code",
   "execution_count": 48,
   "id": "00a03f11",
   "metadata": {},
   "outputs": [],
   "source": [
    "# Petrophysics Inversion\n",
    "########################\n",
    "\n",
    "# Data misfit\n",
    "dmisfit = data_misfit.L2DataMisfit(data=data_t, simulation=sim)\n",
    "dmisfit.W = 1. / (uncert)\n",
    "\n",
    "reg = regularization.PGI(\n",
    "    \n",
    "    gmmref=gmmref,\n",
    "    mesh=sim.mesh,\n",
    "    alpha_s=1,\n",
    "    alpha_x=0,\n",
    "    alpha_y=0,\n",
    "    alpha_z=0,\n",
    "    alpha_xx=0.0,\n",
    "    alpha_yy=0.0,\n",
    "    alpha_zz=20.0,\n",
    "#     cell_weights_list = [np.ones(mesh.nC)]\n",
    "\n",
    ")\n",
    "\n",
    "# reg_petro.mrefInSmooth = False\n",
    "\n",
    "\n"
   ]
  },
  {
   "cell_type": "code",
   "execution_count": 49,
   "id": "9099b1b5",
   "metadata": {
    "scrolled": false
   },
   "outputs": [
    {
     "name": "stdout",
     "output_type": "stream",
     "text": [
      "SimPEG.InvProblem will set Regularization.mref to m0.\n",
      "\n",
      "        SimPEG.InvProblem is setting bfgsH0 to the inverse of the eval2Deriv.\n",
      "        ***Done using same Solver and solverOpts as the problem***\n",
      "model has any nan: 0\n",
      "=============================== Projected GNCG ===============================\n",
      "  #     beta     phi_d     phi_m       f      |proj(x-g)-x|  LS    Comment   \n",
      "-----------------------------------------------------------------------------\n",
      "x0 has any nan: 0\n",
      "   0  2.13e-03  2.76e+03  0.00e+00  2.76e+03    8.43e+02      0              \n",
      "geophys. misfits: 529.1 (target 25.0 [False]) | smallness misfit: 1153.4 (target: 44.5 [False])\n",
      "Beta cooling evaluation: progress: [529.1] ; minimum progress targets: [2210.1]\n",
      "mref changed in  47  places\n",
      "   1  2.13e-03  5.29e+02  2.82e+05  1.13e+03    1.51e+02      0              \n",
      "geophys. misfits: 465.5 (target 25.0 [False]) | smallness misfit: 1227.9 (target: 44.5 [False])\n",
      "Beta cooling evaluation: progress: [465.5] ; minimum progress targets: [423.3]\n",
      "Decreasing beta to counter data misfit decrase plateau.\n",
      "mref changed in  9  places\n",
      "   2  1.07e-03  4.66e+02  2.73e+05  7.57e+02    1.60e+02      0              \n",
      "geophys. misfits: 189.5 (target 25.0 [False]) | smallness misfit: 1819.7 (target: 44.5 [False])\n",
      "Beta cooling evaluation: progress: [189.5] ; minimum progress targets: [372.4]\n",
      "mref changed in  6  places\n",
      "   3  1.07e-03  1.89e+02  4.31e+05  6.50e+02    3.60e+01      0              \n",
      "geophys. misfits: 169.2 (target 25.0 [False]) | smallness misfit: 1838.9 (target: 44.5 [False])\n",
      "Beta cooling evaluation: progress: [169.2] ; minimum progress targets: [151.6]\n",
      "Decreasing beta to counter data misfit decrase plateau.\n",
      "mref changed in  5  places\n",
      "   4  5.33e-04  1.69e+02  4.27e+05  3.97e+02    9.48e+01      0              \n",
      "geophys. misfits: 68.0 (target 25.0 [False]) | smallness misfit: 2211.9 (target: 44.5 [False])\n",
      "Beta cooling evaluation: progress: [68.] ; minimum progress targets: [135.3]\n",
      "mref changed in  5  places\n",
      "   5  5.33e-04  6.80e+01  5.28e+05  3.50e+02    2.47e+01      0              \n",
      "geophys. misfits: 56.8 (target 25.0 [False]) | smallness misfit: 2127.7 (target: 44.5 [False])\n",
      "Beta cooling evaluation: progress: [56.8] ; minimum progress targets: [54.4]\n",
      "Decreasing beta to counter data misfit decrase plateau.\n",
      "mref changed in  5  places\n",
      "   6  2.67e-04  5.68e+01  4.96e+05  1.89e+02    2.95e+01      0              \n",
      "geophys. misfits: 49.5 (target 25.0 [False]) | smallness misfit: 2150.5 (target: 44.5 [False])\n",
      "Beta cooling evaluation: progress: [49.5] ; minimum progress targets: [45.4]\n",
      "Decreasing beta to counter data misfit decrase plateau.\n",
      "mref changed in  7  places\n",
      "   7  1.33e-04  4.95e+01  4.87e+05  1.14e+02    9.43e+01      0   Skip BFGS  \n",
      "geophys. misfits: 48.8 (target 25.0 [False]) | smallness misfit: 2018.8 (target: 44.5 [False])\n",
      "Beta cooling evaluation: progress: [48.8] ; minimum progress targets: [39.6]\n",
      "Decreasing beta to counter data misfit decrase plateau.\n",
      "mref changed in  5  places\n",
      "   8  6.67e-05  4.88e+01  4.47e+05  7.86e+01    9.82e+01      2              \n",
      "geophys. misfits: 50.3 (target 25.0 [False]) | smallness misfit: 1842.1 (target: 44.5 [False])\n",
      "Beta cooling evaluation: progress: [50.3] ; minimum progress targets: [39.]\n",
      "Decreasing beta to counter data misfit decrase plateau.\n",
      "mref changed in  5  places\n",
      "   9  3.33e-05  5.03e+01  3.93e+05  6.34e+01    1.39e+02      1   Skip BFGS  \n",
      "geophys. misfits: 34.4 (target 25.0 [False]) | smallness misfit: 1986.9 (target: 44.5 [False])\n",
      "Beta cooling evaluation: progress: [34.4] ; minimum progress targets: [40.2]\n",
      "mref changed in  18  places\n",
      "  10  3.33e-05  3.44e+01  4.36e+05  4.89e+01    5.89e+01      0   Skip BFGS  \n",
      "geophys. misfits: 30.9 (target 25.0 [False]) | smallness misfit: 1961.8 (target: 44.5 [False])\n",
      "Beta cooling evaluation: progress: [30.9] ; minimum progress targets: [30.]\n",
      "Decreasing beta to counter data misfit decrase plateau.\n",
      "mref changed in  9  places\n",
      "  11  1.67e-05  3.09e+01  4.49e+05  3.84e+01    9.13e+00      0   Skip BFGS  \n",
      "geophys. misfits: 28.2 (target 25.0 [False]) | smallness misfit: 2540.5 (target: 44.5 [False])\n",
      "Beta cooling evaluation: progress: [28.2] ; minimum progress targets: [30.]\n",
      "Decreasing beta to counter data misfit decrase plateau.\n",
      "mref changed in  17  places\n",
      "  12  8.33e-06  2.82e+01  5.93e+05  3.31e+01    3.02e+01      0              \n",
      "geophys. misfits: 26.6 (target 25.0 [False]) | smallness misfit: 2865.5 (target: 44.5 [False])\n",
      "Beta cooling evaluation: progress: [26.6] ; minimum progress targets: [30.]\n",
      "Decreasing beta to counter data misfit decrase plateau.\n",
      "mref changed in  8  places\n",
      "  13  4.17e-06  2.66e+01  6.51e+05  2.93e+01    2.98e+01      1              \n",
      "geophys. misfits: 25.6 (target 25.0 [False]) | smallness misfit: 3163.4 (target: 44.5 [False])\n",
      "Beta cooling evaluation: progress: [25.6] ; minimum progress targets: [30.]\n",
      "Decreasing beta to counter data misfit decrase plateau.\n",
      "mref changed in  3  places\n",
      "  14  2.08e-06  2.56e+01  6.92e+05  2.71e+01    2.80e+01      2   Skip BFGS  \n",
      "geophys. misfits: 25.0 (target 25.0 [False]) | smallness misfit: 3631.9 (target: 44.5 [False])\n",
      "Beta cooling evaluation: progress: [25.] ; minimum progress targets: [30.]\n",
      "Decreasing beta to counter data misfit decrase plateau.\n",
      "mref changed in  6  places\n",
      "  15  1.04e-06  2.50e+01  7.54e+05  2.58e+01    2.88e+01      2   Skip BFGS  \n",
      "------------------------- STOP! -------------------------\n",
      "1 : |fc-fOld| = 1.2446e+00 <= tolF*(1+|f0|) = 2.7636e+02\n",
      "0 : |xc-x_last| = 1.1044e+00 <= tolX*(1+|x0|) = 4.4445e-05\n",
      "0 : |proj(x-g)-x|    = 2.8763e+01 <= tolG          = 1.0000e-01\n",
      "0 : |proj(x-g)-x|    = 2.8763e+01 <= 1e3*eps       = 1.0000e-02\n",
      "1 : maxIter   =      15    <= iter          =     15\n",
      "------------------------- DONE! -------------------------\n"
     ]
    }
   ],
   "source": [
    "opt = optimization.ProjectedGNCG(\n",
    "\n",
    "    maxIter=15, tolX=1e-6, maxIterCG=100, tolCG=1e-3\n",
    "\n",
    ")\n",
    "opt.remember('xc')\n",
    "\n",
    "# Statement of the inverse problem\n",
    "invProb = inverse_problem.BaseInvProblem(dmisfit, reg, opt)\n",
    "invProb.beta =4e-1\n",
    "\n",
    "alpha0_ratio = np.r_[\n",
    "    np.zeros(len(reg.objfcts)),\n",
    "    1e-4 * np.ones(len(reg.objfcts)),\n",
    "    100.0 * 1e-4 * np.ones(len(reg.objfcts)),\n",
    "]\n",
    "Alphas = directives.AlphasSmoothEstimate_ByEig(alpha0_ratio=alpha0_ratio, verbose=True)\n",
    "\n",
    "# initialize beta and beta/alpha_s schedule\n",
    "beta = directives.BetaEstimate_ByEig(beta0_ratio=1e2)\n",
    "\n",
    "betaIt = directives.PGI_BetaAlphaSchedule(\n",
    "    verbose=True,\n",
    "    coolingFactor=2.0,\n",
    "    tolerance=0.2,\n",
    "    progress=0.2,\n",
    ")\n",
    "\n",
    "# geophy. and petro. target misfits\n",
    "targets = directives.MultiTargetMisfits(\n",
    "    \n",
    "    verbose=True,\n",
    "\n",
    ")\n",
    "\n",
    "# add learned mref in smooth once stable\n",
    "MrefInSmooth = directives.PGI_AddMrefInSmooth(\n",
    "    wait_till_stable=True,\n",
    "    verbose=True,\n",
    ")\n",
    "# update the parameters in smallness (L2-approx of PGI)\n",
    "update_smallness = directives.PGI_UpdateParameters(\n",
    "    update_gmm=True  # keep GMM model fixed\n",
    ")\n",
    "\n",
    "# scaling_init = directives.ScalingMultipleDataMisfits_ByEig(chi0_ratio=[1.0, 100.0])\n",
    "\n",
    "# scale_schedule = directives.JointScalingSchedule(verbose=True)\n",
    "\n",
    "\n",
    "\n",
    "directives_list = [\n",
    "              \n",
    "#     Alphas,\n",
    "#     scaling_init,\n",
    "    beta,\n",
    "#     update_smallness,\n",
    "    targets,\n",
    "#     scale_schedule,\n",
    "    betaIt,\n",
    "    MrefInSmooth, \n",
    "\n",
    "]\n",
    "\n",
    "# assemble in an inversion\n",
    "inv = inversion.BaseInversion(invProb, directiveList=directives_list)\n",
    "\n",
    "# run the inversion\n",
    "mcluster = inv.run(m0)\n"
   ]
  },
  {
   "cell_type": "code",
   "execution_count": 50,
   "id": "dd9e939a",
   "metadata": {},
   "outputs": [
    {
     "name": "stderr",
     "output_type": "stream",
     "text": [
      "/home/juan/anaconda3/envs/inversion/lib/python3.9/site-packages/discretize/utils/code_utils.py:182: FutureWarning: TensorMesh.vectorCCx has been deprecated, please use TensorMesh.cell_centers_x. It will be removed in version 1.0.0 of discretize.\n",
      "  warnings.warn(message, Warning)\n",
      "/home/juan/anaconda3/envs/inversion/lib/python3.9/site-packages/discretize/utils/code_utils.py:182: FutureWarning: TensorMesh.vectorCCx has been deprecated, please use TensorMesh.cell_centers_x. It will be removed in version 1.0.0 of discretize.\n",
      "  warnings.warn(message, Warning)\n",
      "/home/juan/anaconda3/envs/inversion/lib/python3.9/site-packages/discretize/utils/code_utils.py:182: FutureWarning: TensorMesh.vectorCCx has been deprecated, please use TensorMesh.cell_centers_x. It will be removed in version 1.0.0 of discretize.\n",
      "  warnings.warn(message, Warning)\n"
     ]
    },
    {
     "data": {
      "text/plain": [
       "Text(0, 0.5, 'Conductivity (S/m)')"
      ]
     },
     "execution_count": 50,
     "metadata": {},
     "output_type": "execute_result"
    },
    {
     "data": {
      "image/png": "[encoded data removed]",
      "text/plain": [
       "<Figure size 540x216 with 1 Axes>"
      ]
     },
     "metadata": {
      "needs_background": "light"
     },
     "output_type": "display_data"
    }
   ],
   "source": [
    "# PGI model\n",
    "fig,ax0 = plt.subplots(1,1,figsize=(7.5,3))\n",
    "fontsize=16\n",
    "M = sim.mesh\n",
    "plt.loglog(-M.vectorCCx, np.exp(mtrue), color='black',linewidth=5)\n",
    "\n",
    "plt.loglog(-M.vectorCCx, np.exp(mcluster), color='r',linewidth=3)\n",
    "plt.loglog(-M.vectorCCx, np.exp(reg.objfcts[0].mref),\n",
    "             color='black',\n",
    "             linestyle='dashed',\n",
    "          linewidth=2)\n",
    "\n",
    "plt.legend(['True Model',\n",
    "            'PGI model',\n",
    "            'learned mref',\n",
    "],fontsize=fontsize,loc=0)\n",
    "plt.gca().set_ylim([10**(-2.5),10**(-0.5)])\n",
    "\n",
    "\n",
    "plt.gca().set_xlabel('Depth (m)',fontsize=fontsize)\n",
    "plt.gca().tick_params(labelsize=fontsize)\n",
    "plt.gca().set_ylabel('Conductivity (S/m)',fontsize=fontsize)"
   ]
  },
  {
   "cell_type": "code",
   "execution_count": null,
   "id": "9b587775",
   "metadata": {},
   "outputs": [],
   "source": [
    "survey.nD"
   ]
  },
  {
   "cell_type": "code",
   "execution_count": null,
   "id": "9aa2c5f8",
   "metadata": {},
   "outputs": [],
   "source": []
  }
 ],
 "metadata": {
  "kernelspec": {
   "display_name": "Python 3 (ipykernel)",
   "language": "python",
   "name": "python3"
  },
  "language_info": {
   "codemirror_mode": {
    "name": "ipython",
    "version": 3
   },
   "file_extension": ".py",
   "mimetype": "text/x-python",
   "name": "python",
   "nbconvert_exporter": "python",
   "pygments_lexer": "ipython3",
   "version": "3.9.7"
  }
 },
 "nbformat": 4,
 "nbformat_minor": 5
}
