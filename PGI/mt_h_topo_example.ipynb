{
 "cells": [
  {
   "cell_type": "code",
   "execution_count": 1,
   "id": "aec12771",
   "metadata": {
    "scrolled": false
   },
   "outputs": [],
   "source": [
    "import matplotlib.pyplot as plt\n",
    "\n",
    "import numpy as np\n",
    "import unittest\n",
    "from scipy.constants import mu_0\n",
    "from discretize.tests import check_derivative\n",
    "import discretize\n",
    "\n",
    "from SimPEG.electromagnetics import natural_source as nsem\n",
    "from SimPEG.electromagnetics.static import utils as sutils\n",
    "from SimPEG import (\n",
    "    maps, utils, optimization, inversion, inverse_problem, directives,\n",
    "    data_misfit, regularization, data\n",
    ")\n",
    "from discretize import TensorMesh\n",
    "from pymatsolver import Pardiso\n",
    "import gmsh\n",
    "from scipy.spatial import cKDTree\n",
    "# import pyvista as pv\n",
    "\n",
    "def get_surface_weights(mesh, actind, values, octree=False):\n",
    "    \"\"\"\n",
    "        Function that determines the surface weights to be applied\n",
    "        either an octree or tensor mesh\n",
    "        input: discretize mesh object: mesh\n",
    "               numpy array: active domain cells\n",
    "               numpy array: value of weights at each cell\n",
    "                            at depth determined by size of array\n",
    "    \"\"\"\n",
    "    n_layer = values.size\n",
    "\n",
    "    uniqXYlocs, topoCC = sutils.gettopoCC(mesh, actind, option='center')\n",
    "\n",
    "    tree = cKDTree(mesh.gridCC)\n",
    "\n",
    "    if octree:\n",
    "        d, inds = tree.query(np.c_[uniqXYlocs, topoCC])\n",
    "\n",
    "    else:\n",
    "        d, inds = tree.query(np.c_[uniqXYlocs.gridCC, topoCC])\n",
    "\n",
    "    # Regularization (just for mesh use)\n",
    "    regmap = maps.IdentityMap(nP=int(actind.sum()))\n",
    "\n",
    "    reg = regularization.Sparse(\n",
    "        mesh, indActive=actind,\n",
    "        mapping=regmap\n",
    "    )\n",
    "\n",
    "    surface_weights_temp = np.ones(mesh.nC)\n",
    "    surface_weights_temp[inds] = values[0]\n",
    "    surface_weights = surface_weights_temp.copy()\n",
    "\n",
    "    if n_layer > 1:\n",
    "\n",
    "        for i in range(n_layer - 1):\n",
    "            temp = np.zeros(mesh.nC)\n",
    "\n",
    "            temp[actind] = reg.regmesh.aveFy2CC * reg.regmesh.cellDiffyStencil * surface_weights_temp[actind]\n",
    "\n",
    "            inds = temp == 0.5\n",
    "\n",
    "            surface_weights[inds] = values[i + 1]\n",
    "\n",
    "    return surface_weights\n",
    "\n",
    "\n"
   ]
  },
  {
   "cell_type": "code",
   "execution_count": 2,
   "id": "85b25869",
   "metadata": {},
   "outputs": [
    {
     "name": "stdout",
     "output_type": "stream",
     "text": [
      "[INFO] creating Tensor Mesh...\n",
      "[NOTE] Active cells are being generated\n",
      "[NOTE] Active cells completed\n",
      "230 (9760,)\n",
      "6755 (9760,) (160, 2) (9760,)\n",
      "[1.00000000e-01 1.83298071e-01 3.35981829e-01 6.15848211e-01\n",
      " 1.12883789e+00 2.06913808e+00 3.79269019e+00 6.95192796e+00\n",
      " 1.27427499e+01 2.33572147e+01 4.28133240e+01 7.84759970e+01\n",
      " 1.43844989e+02 2.63665090e+02 4.83293024e+02 8.85866790e+02\n",
      " 1.62377674e+03 2.97635144e+03 5.45559478e+03 1.00000000e+04] (35, 2)\n"
     ]
    },
    {
     "name": "stderr",
     "output_type": "stream",
     "text": [
      "/home/juan/anaconda3/envs/inversion/lib/python3.9/site-packages/discretize/utils/code_utils.py:217: FutureWarning: TensorMesh.plotGrid has been deprecated, please use TensorMesh.plot_grid. It will be removed in version 1.0.0 of discretize.\n",
      "  warnings.warn(\n",
      "/home/juan/anaconda3/envs/inversion/lib/python3.9/site-packages/discretize/utils/code_utils.py:182: FutureWarning: TensorMesh.vectorCCx has been deprecated, please use TensorMesh.cell_centers_x. It will be removed in version 1.0.0 of discretize.\n",
      "  warnings.warn(message, Warning)\n",
      "/home/juan/anaconda3/envs/inversion/lib/python3.9/site-packages/discretize/utils/code_utils.py:182: FutureWarning: TensorMesh.vectorNx has been deprecated, please use TensorMesh.nodes_x. It will be removed in version 1.0.0 of discretize.\n",
      "  warnings.warn(message, Warning)\n"
     ]
    },
    {
     "name": "stdout",
     "output_type": "stream",
     "text": [
      "[ 2.47014634  0.37982946 -0.95394525 ... -1.18781528  0.8454181\n",
      " -0.17580935]\n"
     ]
    },
    {
     "name": "stderr",
     "output_type": "stream",
     "text": [
      "/home/juan/anaconda3/envs/inversion/lib/python3.9/site-packages/discretize/utils/code_utils.py:217: FutureWarning: TensorMesh.getInterpolationMat has been deprecated, please use TensorMesh.get_interpolation_matrix. It will be removed in version 1.0.0 of discretize.\n",
      "  warnings.warn(\n"
     ]
    },
    {
     "data": {
      "image/png": "[encoded data removed]",
      "text/plain": [
       "<Figure size 432x288 with 1 Axes>"
      ]
     },
     "metadata": {
      "needs_background": "light"
     },
     "output_type": "display_data"
    }
   ],
   "source": [
    "deriv_type = \"sigma\"\n",
    "sim_type = \"h\"\n",
    "fixed_boundary=True\n",
    "\n",
    "    \n",
    "print('[INFO] creating Tensor Mesh...')\n",
    "mesh = discretize.TensorMesh(\n",
    "[\n",
    "    [(200,1),(100,1),(75,1),(50,1),(25,1),(20,1),(15,1),(12.5,146),(15,1),(20,1),(25,1),(50,1),(75,1),(100,1),(200,1)], #[(min cell size,left padding cells, growth factor),(min cell size, amount of cells @ that size),(min cell size,right padding cells, growth factor)]\n",
    "    [(187.5,1),(100,1),(75,1),(50,1),(37.5,2),(25,3),(18.75,5),(12.5,5),(10,5),(8.75,10),(7.5,15),(6.25,12)]\n",
    "], x0=[-485, 2580])\n",
    "\n",
    "mesh.plotGrid()\n",
    "\n",
    "b = 1000\n",
    "A = 200\n",
    "\n",
    "# create topography\n",
    "\n",
    "Z = A * np.exp(-0.5 * ((mesh.vectorCCx / b) ** 2.0 )) + 3370\n",
    "\n",
    "topo = np.vstack([mesh.vectorCCx, Z]).T\n",
    "\n",
    "\n",
    "plt.plot(mesh.vectorCCx, Z, 'r')\n",
    "\n",
    "print('[NOTE] Active cells are being generated')\n",
    "actinds = utils.surface2ind_topo(mesh, topo, method='linear')       # active indicies\n",
    "print('[NOTE] Active cells completed')\n",
    "\n",
    "\n",
    "# create the synthetic model\n",
    "sigma_back = 1e-2\n",
    "sigma_right = 1e-1\n",
    "sigma_porph = 1\n",
    "sigma_basement = 1e-2\n",
    "sigma_air = 1e-8\n",
    "\n",
    "cells = mesh.cell_centers\n",
    "sigma = np.ones(mesh.n_cells) * sigma_back\n",
    "# Conductive sphere\n",
    "x0 = 700\n",
    "z0 = 3300\n",
    "r0 = 100\n",
    "csph = (\n",
    "    np.sqrt(\n",
    "        (mesh.gridCC[:, 0] - x0) ** 2.0\n",
    "        + (mesh.gridCC[:, 1] - z0) ** 2.0\n",
    "    )\n",
    ") < r0\n",
    "print(csph.sum(), csph.shape)\n",
    "sigma[csph] = sigma_porph\n",
    "sigma[cells[:, 1] <= 3200] = sigma_basement\n",
    "sigma[~actinds] = sigma_air\n",
    "# sigma = np.log(sigma)\n",
    "\n",
    "\n",
    "print(actinds.sum(), actinds.shape, topo.shape, sigma.shape)\n",
    "\n",
    "actmap = maps.InjectActiveCells(\n",
    "\n",
    "    mesh, indActive=actinds, valInactive=np.log(1e-8)\n",
    "\n",
    ")\n",
    "\n",
    "if deriv_type == \"sigma\":\n",
    "    sim_kwargs = {\"sigmaMap\": maps.ExpMap() * actmap}\n",
    "    test_mod = np.log(sigma)\n",
    "else:\n",
    "    sim_kwargs = {\"muMap\": maps.ExpMap(), \"sigma\": sigma}\n",
    "    test_mod = np.log(mu_0) * np.ones(mesh.n_cells)\n",
    "\n",
    "frequencies = np.logspace(-1, 4, 20)\n",
    "\n",
    "z_flight_height = A * np.exp(-0.5 * ((np.linspace(0, 1700, 35) / b) ** 2.0 )) + 3370\n",
    "\n",
    "\n",
    "rx_locs = np.c_[np.linspace(0, 1700, 35), z_flight_height]\n",
    "\n",
    "plt.plot(rx_locs[:, 0], rx_locs[:, 1], 'g')\n",
    "\n",
    "print(frequencies, rx_locs.shape)\n",
    "\n",
    "\n",
    "# if fixed_boundary:\n",
    "\n",
    "#     actmap = maps.InjectActiveCells(\n",
    "\n",
    "#         mesh, indActive=actinds, valInactive=np.log(1e-8)\n",
    "\n",
    "#     )\n",
    "\n",
    "#     # get field from 1D simulation\n",
    "#     survey_1d = nsem.Survey(\n",
    "#         [nsem.sources.Planewave([], frequency=f) for f in frequencies]\n",
    "#     )\n",
    "#     mesh_1d = TensorMesh([mesh.h[1]], [mesh.origin[1]])\n",
    "#     sim_1d = nsem.simulation.Simulation1DMagneticField(\n",
    "#         mesh_1d, survey=survey_1d, sigmaMap=maps.IdentityMap()\n",
    "#     )\n",
    "\n",
    "#     b_left, b_right, _, __ = mesh.cell_boundary_indices\n",
    "#     f_left = sim_1d.fields(sigma[b_left])\n",
    "#     f_right = sim_1d.fields(sigma[b_right])\n",
    "\n",
    "#     b_e = mesh.boundary_edges\n",
    "#     top = np.where(b_e[:, 1] == mesh.nodes_y[-1])\n",
    "#     left = np.where(b_e[:, 0] == mesh.nodes_x[0])\n",
    "#     right = np.where(b_e[:, 0] == mesh.nodes_x[-1])\n",
    "#     e_bc = {}\n",
    "#     for src in survey_1d.source_list:\n",
    "#         e_bc_freq = np.zeros(mesh.boundary_edges.shape[0], dtype=np.complex)\n",
    "#         e_bc_freq[top] = 1.0\n",
    "#         e_bc_freq[right] = f_right[src, \"e\"][:, 0]\n",
    "#         e_bc_freq[left] = f_left[src, \"e\"][:, 0]\n",
    "#         e_bc[src.frequency] = e_bc_freq\n",
    "#     sim_kwargs[\"e_bc\"] = e_bc\n",
    "\n",
    "rx_list = [\n",
    "    nsem.receivers.PointNaturalSource(\n",
    "        rx_locs, orientation=\"yx\", component=\"real\"\n",
    "    ),\n",
    "    nsem.receivers.PointNaturalSource(\n",
    "        rx_locs, orientation=\"yx\", component=\"imag\"\n",
    "    ),\n",
    "#     nsem.receivers.Point3DTipper(\n",
    "#         rx_locs, orientation=\"zx\", component=\"imag\"\n",
    "#     ),\n",
    "#     nsem.receivers.PointNaturalSource(\n",
    "#         rx_locs, orientation=\"yx\", component=\"apparent_resistivity\"\n",
    "#     ),\n",
    "#     nsem.receivers.PointNaturalSource(\n",
    "#         rx_locs, orientation=\"yx\", component=\"phase\"\n",
    "#     ),\n",
    "]\n",
    "\n",
    "src_list = [nsem.sources.Planewave(rx_list, frequency=f) for f in frequencies]\n",
    "\n",
    "survey = nsem.Survey(src_list)\n",
    "\n",
    "sim = nsem.simulation.Simulation2DMagneticField(\n",
    "    mesh,\n",
    "    survey=survey,\n",
    "    **sim_kwargs,\n",
    "    solver=Pardiso,\n",
    ")\n",
    "\n",
    "data_obs = sim.dpred(np.log(sigma[actinds]))\n",
    "\n",
    "data_obs = data_obs + (np.random.randn(data_obs.shape[0]) * (data_obs * 0.05))\n",
    "print(np.random.randn(data_obs.shape[0]))"
   ]
  },
  {
   "cell_type": "code",
   "execution_count": null,
   "id": "ad403bae",
   "metadata": {
    "scrolled": false
   },
   "outputs": [],
   "source": [
    "# simplex mesh design\n",
    "\n",
    "gmsh.initialize()\n",
    "\n",
    "gmsh.clear()\n",
    "gmsh.model.add(\"t3\")\n",
    "\n",
    "\n",
    "# add the points defining the mesh outline\n",
    "\n",
    "# add lower points\n",
    "lc = 100\n",
    "gmsh.model.occ.addPoint(-500, 2600, 0, lc, 1)\n",
    "gmsh.model.occ.addPoint(2210, 2600, 0, lc, 2)\n",
    "\n",
    "# create the top points\n",
    "gmsh.model.occ.addPoint(-500, 3650, 0, lc, 4)\n",
    "gmsh.model.occ.addPoint(2210, 3650, 0, lc, 3)\n",
    "\n",
    "\n",
    "lc = 12.5\n",
    "gmsh.model.occ.addPoint(-500, topo[0, 1], 0, lc, 29)\n",
    "cnt = 0\n",
    "for ii in range(topo.shape[0]):\n",
    "\n",
    "    if ii == 0:\n",
    "        \n",
    "        first = gmsh.model.occ.addPoint(topo[ii, 0], topo[ii, 1], 0, lc, ii + 30)\n",
    "        first_pt = ii + 30\n",
    "        \n",
    "    else:\n",
    "        \n",
    "        if ii == topo.shape[0]-1:\n",
    "            \n",
    "            last = ii + 30\n",
    "    \n",
    "        gmsh.model.occ.addPoint(topo[ii, 0], topo[ii, 1], 0, lc, ii + 30)\n",
    "    \n",
    "    cnt += 1\n",
    "    \n",
    "    # create outterbox\n",
    "gmsh.model.occ.addLine(1, first_pt - 1, 1000)\n",
    "gmsh.model.occ.addLine(first_pt - 1, 4, 1001)\n",
    "gmsh.model.occ.addLine(4, 3, 1002)\n",
    "gmsh.model.occ.addLine(3, last, 1003)\n",
    "gmsh.model.occ.addLine(last, 2, 1004)\n",
    "gmsh.model.occ.addLine(2, 1, 1005)\n",
    "\n",
    "surface = np.arange(29, ii + 31)\n",
    "print(surface)\n",
    "surface_list = surface.tolist()\n",
    "p = gmsh.model.occ.addSpline(surface_list, 100)\n",
    "\n",
    "gmsh.model.occ.addCurveLoop([1000, 1001, 1002, 1003, 1004, 1005], 1)\n",
    "s = gmsh.model.occ.addPlaneSurface([1], 1111)\n",
    "gmsh.model.occ.synchronize()\n",
    "\n",
    "gmsh.model.mesh.embed(1, [p], 2, 1111)\n",
    "\n",
    "\n",
    "# gmsh.model.occ.synchronize()\n",
    "# gmsh.model.addPhysicalGroup(1, [1, 2, 4], 5)\n",
    "# ps = gmsh.model.addPhysicalGroup(2, [1])\n",
    "# gmsh.model.setPhysicalName(2, ps, \"My surface\")\n",
    "\n",
    "# We can then generate a 2D mesh...\n",
    "gmsh.model.mesh.generate(2)\n",
    "\n",
    "# # ... and save it to disk\n",
    "gmsh.write(\"t1.vtk\")\n",
    "\n",
    "# Creates  graphical user interface\n",
    "gmsh.fltk.run()\n",
    "  \n"
   ]
  },
  {
   "cell_type": "code",
   "execution_count": null,
   "id": "f9d8ba15",
   "metadata": {},
   "outputs": [],
   "source": [
    "# # assign error\n",
    "# rs_error = np.reshape(data_obs, (rx_locs.shape[0] * 2, frequencies.shape[0]))\n",
    "# print(rs_error.shape)\n",
    "\n",
    "# # set some extended use variables\n",
    "# num_sites = rx_locs.shape[0]\n",
    "\n",
    "# eps = 5\n",
    "\n",
    "# for ii in range(rs_error.shape[1]):\n",
    "    \n",
    "# #     eps = np.percentile(rs_error[:num_sites, ii], 10)\n",
    "#     std_r = 0.1\n",
    "#     std_i = 0.1\n",
    "    \n",
    "#     rs_error[:num_sites, ii] = np.abs(rs_error[:num_sites, ii]) * std_r + eps\n",
    "#     rs_error[num_sites:, ii] = np.abs(rs_error[num_sites:, ii]) * std_i + 10\n",
    "    \n",
    "# std = rs_error.flatten('F')\n",
    "# print(std[:5], rs_error[:5, 0])"
   ]
  },
  {
   "cell_type": "code",
   "execution_count": 3,
   "id": "4386fa3a",
   "metadata": {},
   "outputs": [
    {
     "name": "stdout",
     "output_type": "stream",
     "text": [
      "(9760,) 6755 (9760,) (160, 2) (9760,) 9760\n"
     ]
    },
    {
     "name": "stderr",
     "output_type": "stream",
     "text": [
      "/home/juan/anaconda3/envs/inversion/lib/python3.9/site-packages/discretize/mixins/mpl_mod.py:294: FutureWarning: pcolorOpts has been deprecated, please use pcolor_opts\n",
      "  warnings.warn(\n"
     ]
    },
    {
     "data": {
      "image/png": "[encoded data removed]",
      "text/plain": [
       "<Figure size 864x576 with 2 Axes>"
      ]
     },
     "metadata": {
      "needs_background": "light"
     },
     "output_type": "display_data"
    }
   ],
   "source": [
    "# ==========================================================================================\n",
    "# Plot synthetic model\n",
    "\n",
    "fig, ax = plt.subplots(1, 1, figsize=(12, 8))\n",
    "mtrue = sigma  # np.ones(mesh.nC) * 1 / np.median(rho_app)                        # conductivity\n",
    "mtrue[~actinds] = np.nan\n",
    "clim = [0, 0.1]\n",
    "print(mtrue.shape, actinds.sum(), actinds.shape, topo.shape, sigma.shape, mesh.nC)\n",
    "\n",
    "dat = mesh.plot_image((1 / (mtrue)), ax=ax, grid=False,\n",
    "#                      gridOpts={'alpha': 0.2},\n",
    "                     pcolorOpts={\"cmap\": \"rainbow_r\"}\n",
    "                    )\n",
    "ax.set_title('Resistivity')\n",
    "cb = plt.colorbar(dat[0], ax=ax)\n",
    "# ax.set_xlim([-300, 4300])\n",
    "# ax.set_ylim([-400, 0])\n",
    "ax.set_aspect('equal')\n",
    "# ax.plot(\n",
    "#     survey_dc.electrode_locations[:, 0],\n",
    "#     survey_dc.electrode_locations[:, 1], 'k.'\n",
    "# )\n",
    "plt.show()\n",
    "\n",
    "# np.save('conductivity.npy', rho_est)"
   ]
  },
  {
   "cell_type": "code",
   "execution_count": 4,
   "id": "b8defa6f",
   "metadata": {},
   "outputs": [
    {
     "name": "stdout",
     "output_type": "stream",
     "text": [
      "(1400,)\n"
     ]
    },
    {
     "data": {
      "text/plain": [
       "[<matplotlib.lines.Line2D at 0x7ffb2d4e5910>]"
      ]
     },
     "execution_count": 4,
     "metadata": {},
     "output_type": "execute_result"
    },
    {
     "data": {
      "image/png": "[encoded data removed]",
      "text/plain": [
       "<Figure size 432x288 with 1 Axes>"
      ]
     },
     "metadata": {
      "needs_background": "light"
     },
     "output_type": "display_data"
    }
   ],
   "source": [
    "eps = 1e-5\n",
    "std = abs(data_obs * 0.08) + eps\n",
    "# plt.loglog(frequencies, data_obs[:20], '.')\n",
    "plt.plot(data_obs, '.')\n",
    "print(data_obs.shape)\n",
    "plt.plot(std, '.g')"
   ]
  },
  {
   "cell_type": "code",
   "execution_count": 13,
   "id": "a8344b5f",
   "metadata": {},
   "outputs": [
    {
     "name": "stdout",
     "output_type": "stream",
     "text": [
      "[INFO] Getting things started on inversion...\n",
      "SimPEG.InvProblem will set Regularization.mref to m0.\n",
      "\n",
      "        SimPEG.InvProblem is setting bfgsH0 to the inverse of the eval2Deriv.\n",
      "        ***Done using same Solver and solverOpts as the problem***\n"
     ]
    },
    {
     "name": "stderr",
     "output_type": "stream",
     "text": [
      "/home/juan/anaconda3/envs/inversion/lib/python3.9/site-packages/discretize/utils/code_utils.py:182: FutureWarning: TensorMesh._cellGradxStencil has been deprecated, please use TensorMesh.stencil_cell_gradient_x. It will be removed in version 1.0.0 of discretize.\n",
      "  warnings.warn(message, Warning)\n",
      "/home/juan/anaconda3/envs/inversion/lib/python3.9/site-packages/discretize/utils/code_utils.py:182: FutureWarning: TensorMesh._cellGradyStencil has been deprecated, please use TensorMesh.stencil_cell_gradient_y. It will be removed in version 1.0.0 of discretize.\n",
      "  warnings.warn(message, Warning)\n"
     ]
    },
    {
     "name": "stdout",
     "output_type": "stream",
     "text": [
      "model has any nan: 0\n",
      "=============================== Projected GNCG ===============================\n",
      "  #     beta     phi_d     phi_m       f      |proj(x-g)-x|  LS    Comment   \n",
      "-----------------------------------------------------------------------------\n",
      "x0 has any nan: 0\n",
      "   0  4.39e-03  3.72e+04  0.00e+00  3.72e+04    5.50e+02      0              \n",
      "   1  2.19e-03  6.45e+03  6.41e+05  7.85e+03    2.85e+02      0              \n",
      "   2  1.10e-03  1.63e+03  9.18e+05  2.64e+03    2.82e+02      0              \n",
      "   3  5.48e-04  1.35e+03  7.73e+05  1.77e+03    2.97e+02      1              \n",
      "   4  2.74e-04  1.07e+03  6.36e+05  1.25e+03    3.25e+02      1   Skip BFGS  \n",
      "------------------------- STOP! -------------------------\n",
      "1 : |fc-fOld| = 0.0000e+00 <= tolF*(1+|f0|) = 3.7243e+03\n",
      "1 : |xc-x_last| = 1.7379e+01 <= tolX*(1+|x0|) = 3.7949e+01\n",
      "0 : |proj(x-g)-x|    = 3.2482e+02 <= tolG          = 1.0000e-01\n",
      "0 : |proj(x-g)-x|    = 3.2482e+02 <= 1e3*eps       = 1.0000e-02\n",
      "0 : maxIter   =      10    <= iter          =      5\n",
      "------------------------- DONE! -------------------------\n"
     ]
    }
   ],
   "source": [
    "active_cells = actinds\n",
    "#np.percentile(np.abs(data_obs), 10, interpolation='lower')\n",
    "m0 = (np.ones(mesh.nC) * np.log(sigma_back))[actinds]\n",
    "# m0[~actinds] = np.log(1e-8)\n",
    "# std = abs(data_obs * 0.05) + eps\n",
    "data_t = data.Data(survey, dobs=data_obs, standard_deviation=std)\n",
    "# Clean sensitivity function formed with true resistivity\n",
    "sim._Jmatrix = None\n",
    "\n",
    "# Data Misfit\n",
    "coolingFactor = 2\n",
    "coolingRate = 1\n",
    "beta0_ratio = 1e1\n",
    "dmisfit = data_misfit.L2DataMisfit(data=data_t, simulation=sim)\n",
    "\n",
    "# check for percentile floor\n",
    "\n",
    "# print(uncert.shape)\n",
    "dmisfit.W = 1. / std\n",
    "# Map for a regularization\n",
    "regmap = maps.IdentityMap(nP=int(actinds.sum()))\n",
    "# reg = regularization.Tikhonov(mesh, indActive=actinds, mapping=regmap)\n",
    "reg = regularization.Sparse(mesh, indActive=actinds, mapping=regmap)\n",
    "\n",
    "# w_fac = np.asarray([25, 10, 5])\n",
    "\n",
    "\n",
    "# surface_weights = get_surface_weights(mesh, active_cells, w_fac, octree=False)\n",
    "\n",
    "# # Related to inversion\n",
    "# reg.cell_weights = 1 / (mesh.vol[active_cells] * surface_weights[active_cells])\n",
    "\n",
    "print('[INFO] Getting things started on inversion...')\n",
    "# set alpha length scales\n",
    "reg.alpha_s = 1\n",
    "reg.alpha_x = 1\n",
    "reg.alpha_y = 1\n",
    "reg.alpha_z = 1\n",
    "# plot uncertainties\n",
    "# opt = Optimization.InexactGaussNewton(maxIter=6)\n",
    "# opt = Optimization.GaussNewton(maxIter=15)\n",
    "opt = optimization.ProjectedGNCG(maxIter=10, upper=np.inf, lower=-np.inf)\n",
    "invProb = inverse_problem.BaseInvProblem(dmisfit, reg, opt)\n",
    "beta = directives.BetaSchedule(\n",
    "    coolingFactor=coolingFactor, coolingRate=coolingRate\n",
    ")\n",
    "betaest = directives.BetaEstimate_ByEig(beta0_ratio=beta0_ratio)\n",
    "target = directives.TargetMisfit()\n",
    "target.target = survey.nD / 2.\n",
    "saveIter = directives.SaveModelEveryIteration()\n",
    "saveIterVar = directives.SaveOutputEveryIteration()\n",
    "\n",
    "directiveList = [\n",
    "    beta, betaest, target  # , saveIter, saveIterVar \n",
    "]\n",
    "\n",
    "inv = inversion.BaseInversion(\n",
    "    invProb, directiveList=directiveList)\n",
    "# opt.LSshorten = 0.5\n",
    "opt.remember('xc')\n",
    "\n",
    "# Run Inversion ======================================================\n",
    "minv = inv.run(m0)"
   ]
  },
  {
   "cell_type": "code",
   "execution_count": 14,
   "id": "bd90ef9a",
   "metadata": {},
   "outputs": [
    {
     "name": "stderr",
     "output_type": "stream",
     "text": [
      "/home/juan/anaconda3/envs/inversion/lib/python3.9/site-packages/discretize/utils/code_utils.py:217: FutureWarning: TensorMesh.plotImage has been deprecated, please use TensorMesh.plot_image. It will be removed in version 1.0.0 of discretize.\n",
      "  warnings.warn(\n",
      "/home/juan/anaconda3/envs/inversion/lib/python3.9/site-packages/discretize/mixins/mpl_mod.py:294: FutureWarning: pcolorOpts has been deprecated, please use pcolor_opts\n",
      "  warnings.warn(\n"
     ]
    },
    {
     "data": {
      "image/png": "[encoded data removed]",
      "text/plain": [
       "<Figure size 864x576 with 2 Axes>"
      ]
     },
     "metadata": {
      "needs_background": "light"
     },
     "output_type": "display_data"
    }
   ],
   "source": [
    "# ==========================================================================================\n",
    "# Plot inversion results\n",
    "rho_est = actmap * minv\n",
    "fig, ax = plt.subplots(1, 1, figsize=(12, 8))\n",
    "mtrue = 1 / np.exp(rho_est)  # np.ones(mesh.nC) * 1 / np.median(rho_app)                        # conductivity\n",
    "mtrue[~actinds] = np.nan\n",
    "clim = [0, 5]\n",
    "\n",
    "dat = mesh.plotImage(mtrue, ax=ax, grid=False,\n",
    "                     pcolorOpts={\"cmap\": \"rainbow_r\"}\n",
    "                    )\n",
    "ax.set_title('Resistivity')\n",
    "cb = plt.colorbar(dat[0], ax=ax)\n",
    "# ax.set_xlim([-300, 4300])\n",
    "# ax.set_ylim([-400, 0])\n",
    "ax.set_aspect('equal')\n",
    "ax.plot(\n",
    "    rx_locs[:, 0],\n",
    "    rx_locs[:, 1], 'k.'\n",
    ")\n",
    "plt.show()\n",
    "\n",
    "np.save('conductivity.npy', rho_est)"
   ]
  },
  {
   "cell_type": "code",
   "execution_count": 15,
   "id": "2c0fe976",
   "metadata": {},
   "outputs": [
    {
     "data": {
      "text/plain": [
       "[<matplotlib.lines.Line2D at 0x7ffb20991250>]"
      ]
     },
     "execution_count": 15,
     "metadata": {},
     "output_type": "execute_result"
    },
    {
     "data": {
      "image/png": "[encoded data removed]",
      "text/plain": [
       "<Figure size 432x288 with 1 Axes>"
      ]
     },
     "metadata": {
      "needs_background": "light"
     },
     "output_type": "display_data"
    }
   ],
   "source": [
    "plt.plot(data_obs, '.')\n",
    "plt.plot(invProb.dpred, '.r')"
   ]
  },
  {
   "cell_type": "code",
   "execution_count": null,
   "id": "fb4fcb14",
   "metadata": {},
   "outputs": [],
   "source": []
  }
 ],
 "metadata": {
  "kernelspec": {
   "display_name": "Python 3 (ipykernel)",
   "language": "python",
   "name": "python3"
  },
  "language_info": {
   "codemirror_mode": {
    "name": "ipython",
    "version": 3
   },
   "file_extension": ".py",
   "mimetype": "text/x-python",
   "name": "python",
   "nbconvert_exporter": "python",
   "pygments_lexer": "ipython3",
   "version": "3.9.7"
  }
 },
 "nbformat": 4,
 "nbformat_minor": 5
}
