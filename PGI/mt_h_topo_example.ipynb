{
 "cells": [
  {
   "cell_type": "code",
   "execution_count": 1,
   "id": "aec12771",
   "metadata": {
    "scrolled": false
   },
   "outputs": [],
   "source": [
    "import matplotlib.pyplot as plt\n",
    "import scipy.sparse as sp\n",
    "import numpy as np\n",
    "import unittest\n",
    "from scipy.constants import mu_0\n",
    "from discretize.tests import check_derivative\n",
    "import discretize\n",
    "\n",
    "from SimPEG.electromagnetics import natural_source as nsem\n",
    "from SimPEG.electromagnetics.static import utils as sutils\n",
    "from SimPEG import (\n",
    "    maps, utils, optimization, inversion, inverse_problem, directives,\n",
    "    data_misfit, regularization, data\n",
    ")\n",
    "from discretize import TensorMesh\n",
    "from pymatsolver import Pardiso\n",
    "import gmsh\n",
    "from scipy.spatial import cKDTree\n",
    "# import pyvista as pv\n",
    "\n",
    "def get_surface_weights(mesh, actind, values, octree=False):\n",
    "    \"\"\"\n",
    "        Function that determines the surface weights to be applied\n",
    "        either an octree or tensor mesh\n",
    "        input: discretize mesh object: mesh\n",
    "               numpy array: active domain cells\n",
    "               numpy array: value of weights at each cell\n",
    "                            at depth determined by size of array\n",
    "    \"\"\"\n",
    "    n_layer = values.size\n",
    "\n",
    "    uniqXYlocs, topoCC = sutils.gettopoCC(mesh, actind, option='center')\n",
    "\n",
    "    tree = cKDTree(mesh.gridCC)\n",
    "\n",
    "    if octree:\n",
    "        d, inds = tree.query(np.c_[uniqXYlocs, topoCC])\n",
    "\n",
    "    else:\n",
    "        d, inds = tree.query(np.c_[uniqXYlocs.gridCC, topoCC])\n",
    "\n",
    "    # Regularization (just for mesh use)\n",
    "    regmap = maps.IdentityMap(nP=int(actind.sum()))\n",
    "\n",
    "    reg = regularization.Sparse(\n",
    "        mesh, indActive=actind,\n",
    "        mapping=regmap\n",
    "    )\n",
    "\n",
    "    surface_weights_temp = np.ones(mesh.nC)\n",
    "    surface_weights_temp[inds] = values[0]\n",
    "    surface_weights = surface_weights_temp.copy()\n",
    "\n",
    "    if n_layer > 1:\n",
    "\n",
    "        for i in range(n_layer - 1):\n",
    "            temp = np.zeros(mesh.nC)\n",
    "\n",
    "            temp[actind] = reg.regmesh.aveFy2CC * reg.regmesh.cellDiffyStencil * surface_weights_temp[actind]\n",
    "\n",
    "            inds = temp == 0.5\n",
    "\n",
    "            surface_weights[inds] = values[i + 1]\n",
    "\n",
    "    return surface_weights\n",
    "\n",
    "\n"
   ]
  },
  {
   "cell_type": "code",
   "execution_count": 2,
   "id": "85b25869",
   "metadata": {
    "scrolled": false
   },
   "outputs": [
    {
     "name": "stdout",
     "output_type": "stream",
     "text": [
      "[INFO] creating Tensor Mesh...\n",
      "[NOTE] Active cells are being generated\n",
      "[NOTE] Active cells completed\n",
      "230 (9760,)\n",
      "6755 (9760,) (160, 2) (9760,)\n",
      "[1.00000000e-01 1.83298071e-01 3.35981829e-01 6.15848211e-01\n",
      " 1.12883789e+00 2.06913808e+00 3.79269019e+00 6.95192796e+00\n",
      " 1.27427499e+01 2.33572147e+01 4.28133240e+01 7.84759970e+01\n",
      " 1.43844989e+02 2.63665090e+02 4.83293024e+02 8.85866790e+02\n",
      " 1.62377674e+03 2.97635144e+03 5.45559478e+03 1.00000000e+04] (35, 2)\n"
     ]
    },
    {
     "name": "stderr",
     "output_type": "stream",
     "text": [
      "/home/juan/anaconda3/envs/inversion/lib/python3.9/site-packages/discretize-0.8.1-py3.9-linux-x86_64.egg/discretize/utils/code_utils.py:217: FutureWarning: TensorMesh.plotGrid has been deprecated, please use TensorMesh.plot_grid. It will be removed in version 1.0.0 of discretize.\n",
      "  warnings.warn(\n",
      "/home/juan/anaconda3/envs/inversion/lib/python3.9/site-packages/discretize-0.8.1-py3.9-linux-x86_64.egg/discretize/utils/code_utils.py:182: FutureWarning: TensorMesh.vectorCCx has been deprecated, please use TensorMesh.cell_centers_x. It will be removed in version 1.0.0 of discretize.\n",
      "  warnings.warn(message, Warning)\n",
      "/home/juan/anaconda3/envs/inversion/lib/python3.9/site-packages/discretize-0.8.1-py3.9-linux-x86_64.egg/discretize/utils/code_utils.py:182: FutureWarning: TensorMesh.vectorNx has been deprecated, please use TensorMesh.nodes_x. It will be removed in version 1.0.0 of discretize.\n",
      "  warnings.warn(message, Warning)\n",
      "/home/juan/anaconda3/envs/inversion/lib/python3.9/site-packages/discretize-0.8.1-py3.9-linux-x86_64.egg/discretize/utils/code_utils.py:217: FutureWarning: TensorMesh.getInterpolationMat has been deprecated, please use TensorMesh.get_interpolation_matrix. It will be removed in version 1.0.0 of discretize.\n",
      "  warnings.warn(\n"
     ]
    },
    {
     "data": {
      "image/png": "[encoded data removed]",
      "text/plain": [
       "<Figure size 432x288 with 1 Axes>"
      ]
     },
     "metadata": {
      "needs_background": "light"
     },
     "output_type": "display_data"
    }
   ],
   "source": [
    "deriv_type = \"sigma\"\n",
    "sim_type = \"h\"\n",
    "fixed_boundary=True\n",
    "\n",
    "    \n",
    "print('[INFO] creating Tensor Mesh...')\n",
    "mesh = discretize.TensorMesh(\n",
    "[\n",
    "    [(200,1),(100,1),(75,1),(50,1),(25,1),(20,1),(15,1),(12.5,146),(15,1),(20,1),(25,1),(50,1),(75,1),(100,1),(200,1)], #[(min cell size,left padding cells, growth factor),(min cell size, amount of cells @ that size),(min cell size,right padding cells, growth factor)]\n",
    "    [(187.5,1),(100,1),(75,1),(50,1),(37.5,2),(25,3),(18.75,5),(12.5,5),(10,5),(8.75,10),(7.5,15),(6.25,12)]\n",
    "], x0=[-485, 2580])\n",
    "\n",
    "mesh.plotGrid()\n",
    "\n",
    "b = 1000\n",
    "A = 200\n",
    "\n",
    "# create topography\n",
    "\n",
    "Z = A * np.exp(-0.5 * ((mesh.vectorCCx / b) ** 2.0 )) + 3370\n",
    "\n",
    "topo = np.vstack([mesh.vectorCCx, Z]).T\n",
    "\n",
    "\n",
    "plt.plot(mesh.vectorCCx, Z, 'r')\n",
    "\n",
    "print('[NOTE] Active cells are being generated')\n",
    "actinds = utils.surface2ind_topo(mesh, topo, method='linear')       # active indicies\n",
    "print('[NOTE] Active cells completed')\n",
    "\n",
    "\n",
    "# create the synthetic model\n",
    "sigma_back = 1e-3\n",
    "sigma_right = 1e-1\n",
    "sigma_porph = 1\n",
    "sigma_basement = 1e-3\n",
    "sigma_air = 1e-8\n",
    "\n",
    "cells = mesh.cell_centers\n",
    "sigma = np.ones(mesh.n_cells) * sigma_back\n",
    "# Conductive sphere\n",
    "x0 = 700\n",
    "z0 = 3300\n",
    "r0 = 100\n",
    "csph = (\n",
    "    np.sqrt(\n",
    "        (mesh.gridCC[:, 0] - x0) ** 2.0\n",
    "        + (mesh.gridCC[:, 1] - z0) ** 2.0\n",
    "    )\n",
    ") < r0\n",
    "print(csph.sum(), csph.shape)\n",
    "sigma[csph] = sigma_porph\n",
    "sigma[cells[:, 1] <= 3200] = sigma_basement\n",
    "sigma[~actinds] = sigma_air\n",
    "# sigma = np.log(sigma)\n",
    "\n",
    "\n",
    "print(actinds.sum(), actinds.shape, topo.shape, sigma.shape)\n",
    "\n",
    "actmap = maps.InjectActiveCells(\n",
    "\n",
    "    mesh, indActive=actinds, valInactive=np.log(1e-8)\n",
    "\n",
    ")\n",
    "\n",
    "if deriv_type == \"sigma\":\n",
    "    sim_kwargs = {\"sigmaMap\": maps.ExpMap() * actmap}\n",
    "    test_mod = np.log(sigma)\n",
    "else:\n",
    "    sim_kwargs = {\"muMap\": maps.ExpMap(), \"sigma\": sigma}\n",
    "    test_mod = np.log(mu_0) * np.ones(mesh.n_cells)\n",
    "\n",
    "frequencies = np.logspace(-1, 4, 20)\n",
    "\n",
    "z_flight_height = A * np.exp(-0.5 * ((np.linspace(0, 1700, 35) / b) ** 2.0 )) + 3370\n",
    "\n",
    "\n",
    "rx_locs = np.c_[np.linspace(0, 1700, 35), z_flight_height]\n",
    "\n",
    "plt.plot(rx_locs[:, 0], rx_locs[:, 1], 'g')\n",
    "\n",
    "print(frequencies, rx_locs.shape)\n",
    "\n",
    "\n",
    "# if fixed_boundary:\n",
    "\n",
    "#     actmap = maps.InjectActiveCells(\n",
    "\n",
    "#         mesh, indActive=actinds, valInactive=np.log(1e-8)\n",
    "\n",
    "#     )\n",
    "\n",
    "#     # get field from 1D simulation\n",
    "#     survey_1d = nsem.Survey(\n",
    "#         [nsem.sources.Planewave([], frequency=f) for f in frequencies]\n",
    "#     )\n",
    "#     mesh_1d = TensorMesh([mesh.h[1]], [mesh.origin[1]])\n",
    "#     sim_1d = nsem.simulation.Simulation1DMagneticField(\n",
    "#         mesh_1d, survey=survey_1d, sigmaMap=maps.IdentityMap()\n",
    "#     )\n",
    "\n",
    "#     b_left, b_right, _, __ = mesh.cell_boundary_indices\n",
    "#     f_left = sim_1d.fields(sigma[b_left])\n",
    "#     f_right = sim_1d.fields(sigma[b_right])\n",
    "\n",
    "#     b_e = mesh.boundary_edges\n",
    "#     top = np.where(b_e[:, 1] == mesh.nodes_y[-1])\n",
    "#     left = np.where(b_e[:, 0] == mesh.nodes_x[0])\n",
    "#     right = np.where(b_e[:, 0] == mesh.nodes_x[-1])\n",
    "#     e_bc = {}\n",
    "#     for src in survey_1d.source_list:\n",
    "#         e_bc_freq = np.zeros(mesh.boundary_edges.shape[0], dtype=np.complex)\n",
    "#         e_bc_freq[top] = 1.0\n",
    "#         e_bc_freq[right] = f_right[src, \"e\"][:, 0]\n",
    "#         e_bc_freq[left] = f_left[src, \"e\"][:, 0]\n",
    "#         e_bc[src.frequency] = e_bc_freq\n",
    "#     sim_kwargs[\"e_bc\"] = e_bc\n",
    "\n",
    "rx_list = [\n",
    "#     nsem.receivers.PointNaturalSource(\n",
    "#         rx_locs, orientation=\"yx\", component=\"real\"\n",
    "#     ),\n",
    "#     nsem.receivers.PointNaturalSource(\n",
    "#         rx_locs, orientation=\"yx\", component=\"imag\"\n",
    "#     ),\n",
    "#     nsem.receivers.Point3DTipper(\n",
    "#         rx_locs, orientation=\"zx\", component=\"imag\"\n",
    "#     ),\n",
    "    nsem.receivers.PointNaturalSource(\n",
    "        rx_locs, orientation=\"yx\", component=\"apparent_resistivity\"\n",
    "    ),\n",
    "    nsem.receivers.PointNaturalSource(\n",
    "        rx_locs, orientation=\"yx\", component=\"phase\"\n",
    "    ),\n",
    "]\n",
    "\n",
    "src_list = [nsem.sources.Planewave(rx_list, frequency=f) for f in frequencies]\n",
    "\n",
    "survey = nsem.Survey(src_list)\n",
    "\n",
    "sim = nsem.simulation.Simulation2DMagneticField(\n",
    "    mesh,\n",
    "    survey=survey,\n",
    "    **sim_kwargs,\n",
    "    solver=Pardiso,\n",
    ")\n",
    "\n",
    "data_obs = sim.dpred(np.log(sigma[actinds]))\n",
    "\n",
    "data_obs = data_obs + (np.random.randn(data_obs.shape[0]) * (data_obs * 0.05))\n",
    "# print(np.random.randn(data_obs.shape[0]))"
   ]
  },
  {
   "cell_type": "code",
   "execution_count": 3,
   "id": "4386fa3a",
   "metadata": {},
   "outputs": [
    {
     "name": "stdout",
     "output_type": "stream",
     "text": [
      "(9760,) 6755 (9760,) (160, 2) (9760,) 9760\n"
     ]
    },
    {
     "name": "stderr",
     "output_type": "stream",
     "text": [
      "/home/juan/anaconda3/envs/inversion/lib/python3.9/site-packages/discretize-0.8.1-py3.9-linux-x86_64.egg/discretize/mixins/mpl_mod.py:302: FutureWarning: pcolorOpts has been deprecated, please use pcolor_opts\n",
      "  warnings.warn(\n"
     ]
    },
    {
     "data": {
      "image/png": "[encoded data removed]",
      "text/plain": [
       "<Figure size 864x576 with 2 Axes>"
      ]
     },
     "metadata": {
      "needs_background": "light"
     },
     "output_type": "display_data"
    }
   ],
   "source": [
    "# ==========================================================================================\n",
    "# Plot synthetic model\n",
    "\n",
    "fig, ax = plt.subplots(1, 1, figsize=(12, 8))\n",
    "mtrue = sigma  # np.ones(mesh.nC) * 1 / np.median(rho_app)                        # conductivity\n",
    "mtrue[~actinds] = np.nan\n",
    "clim = [0, 0.1]\n",
    "print(mtrue.shape, actinds.sum(), actinds.shape, topo.shape, sigma.shape, mesh.nC)\n",
    "\n",
    "dat = mesh.plot_image((1 / (mtrue)), ax=ax, grid=False,\n",
    "#                      gridOpts={'alpha': 0.2},\n",
    "                     pcolorOpts={\"cmap\": \"rainbow_r\"}\n",
    "                    )\n",
    "ax.set_title('Resistivity')\n",
    "cb = plt.colorbar(dat[0], ax=ax)\n",
    "# ax.set_xlim([-300, 4300])\n",
    "# ax.set_ylim([-400, 0])\n",
    "ax.set_aspect('equal')\n",
    "# ax.plot(\n",
    "#     survey_dc.electrode_locations[:, 0],\n",
    "#     survey_dc.electrode_locations[:, 1], 'k.'\n",
    "# )\n",
    "plt.show()\n",
    "\n",
    "# np.save('conductivity.npy', rho_est)"
   ]
  },
  {
   "cell_type": "code",
   "execution_count": 4,
   "id": "b8defa6f",
   "metadata": {
    "scrolled": false
   },
   "outputs": [
    {
     "name": "stdout",
     "output_type": "stream",
     "text": [
      "(20, 70)\n",
      "0.011169396563658757\n"
     ]
    },
    {
     "data": {
      "text/plain": [
       "[<matplotlib.lines.Line2D at 0x7f4621807d90>]"
      ]
     },
     "execution_count": 4,
     "metadata": {},
     "output_type": "execute_result"
    },
    {
     "data": {
      "image/png": "[encoded data removed]",
      "text/plain": [
       "<Figure size 432x288 with 1 Axes>"
      ]
     },
     "metadata": {
      "needs_background": "light"
     },
     "output_type": "display_data"
    }
   ],
   "source": [
    "# assign error\n",
    "data_rs = np.reshape(data_obs, (frequencies.shape[0], rx_locs.shape[0] * 2))\n",
    "rs_error = np.zeros(data_rs.shape)\n",
    "print(rs_error.shape)\n",
    "\n",
    "# set some extended use variables\n",
    "num_sites = rx_locs.shape[0]\n",
    "\n",
    "eps = 1\n",
    "\n",
    "eps = np.percentile(1 / data_rs[:, num_sites:], 10)\n",
    "print(eps)\n",
    "for ii in range(data_rs.shape[0]):\n",
    "    \n",
    "    \n",
    "#     print(eps_i)\n",
    "    std_r = 0.1\n",
    "    std_i = 0.1\n",
    "    \n",
    "    rs_error[ii, :num_sites] = 1 / (np.abs(1 / data_rs[ii, :num_sites]) * std_r + eps)\n",
    "    rs_error[ii, num_sites:] = np.abs(data_rs[ii, num_sites:]) * std_i + 40\n",
    "    \n",
    "#     plt.plot(rx_locs[:, 0], data_rs[num_sites:, ii], '-o')\n",
    "#     plt.show()\n",
    "    \n",
    "std = rs_error.flatten('F')\n",
    "# # print(std[:5], rs_error[:5, 0])\n",
    "\n",
    "# eps = np.percentile(1 / data_obs, 10)\n",
    "# print(np.percentile(1 / data_obs, 10))\n",
    "# std = 1 / (abs((1 / data_obs) * 0.05) + eps)\n",
    "# plt.loglog(frequencies, data_obs[:20], '.')\n",
    "plt.plot(data_obs, '.')\n",
    "# print(data_obs.shape)\n",
    "plt.plot(std, '.g')"
   ]
  },
  {
   "cell_type": "code",
   "execution_count": 5,
   "id": "a8344b5f",
   "metadata": {},
   "outputs": [
    {
     "name": "stdout",
     "output_type": "stream",
     "text": [
      "[INFO] Getting things started on inversion...\n",
      "SimPEG.InvProblem will set Regularization.mref to m0.\n",
      "\n",
      "        SimPEG.InvProblem is setting bfgsH0 to the inverse of the eval2Deriv.\n",
      "        ***Done using same Solver and solverOpts as the problem***\n"
     ]
    },
    {
     "name": "stderr",
     "output_type": "stream",
     "text": [
      "/home/juan/anaconda3/envs/inversion/lib/python3.9/site-packages/discretize-0.8.1-py3.9-linux-x86_64.egg/discretize/utils/code_utils.py:182: FutureWarning: TensorMesh._cellGradxStencil has been deprecated, please use TensorMesh.stencil_cell_gradient_x. It will be removed in version 1.0.0 of discretize.\n",
      "  warnings.warn(message, Warning)\n",
      "/home/juan/anaconda3/envs/inversion/lib/python3.9/site-packages/discretize-0.8.1-py3.9-linux-x86_64.egg/discretize/utils/code_utils.py:182: FutureWarning: TensorMesh._cellGradyStencil has been deprecated, please use TensorMesh.stencil_cell_gradient_y. It will be removed in version 1.0.0 of discretize.\n",
      "  warnings.warn(message, Warning)\n"
     ]
    },
    {
     "name": "stdout",
     "output_type": "stream",
     "text": [
      "model has any nan: 0\n",
      "=============================== Projected GNCG ===============================\n",
      "  #     beta     phi_d     phi_m       f      |proj(x-g)-x|  LS    Comment   \n",
      "-----------------------------------------------------------------------------\n",
      "x0 has any nan: 0\n",
      "   0  7.46e-03  1.61e+04  0.00e+00  1.61e+04    4.94e+02      0              \n",
      "   1  3.73e-03  5.30e+03  2.07e+05  6.08e+03    1.06e+02      0              \n",
      "   2  1.86e-03  2.06e+03  4.41e+05  2.88e+03    7.00e+01      0   Skip BFGS  \n",
      "------------------------- STOP! -------------------------\n",
      "1 : |fc-fOld| = 0.0000e+00 <= tolF*(1+|f0|) = 1.6127e+03\n",
      "1 : |xc-x_last| = 2.9369e+01 <= tolX*(1+|x0|) = 5.6874e+01\n",
      "0 : |proj(x-g)-x|    = 7.0037e+01 <= tolG          = 1.0000e-01\n",
      "0 : |proj(x-g)-x|    = 7.0037e+01 <= 1e3*eps       = 1.0000e-02\n",
      "0 : maxIter   =      10    <= iter          =      3\n",
      "------------------------- DONE! -------------------------\n"
     ]
    }
   ],
   "source": [
    "active_cells = actinds\n",
    "#np.percentile(np.abs(data_obs), 10, interpolation='lower')\n",
    "m0 = (np.ones(mesh.nC) * np.log(sigma_back))[actinds]\n",
    "# m0[~actinds] = np.log(1e-8)\n",
    "# std = abs(data_obs * 0.05) + eps\n",
    "data_t = data.Data(survey, dobs=data_obs, standard_deviation=std)\n",
    "# Clean sensitivity function formed with true resistivity\n",
    "sim._Jmatrix = None\n",
    "\n",
    "# Data Misfit\n",
    "coolingFactor = 2\n",
    "coolingRate = 1\n",
    "beta0_ratio = 1e1\n",
    "dmisfit = data_misfit.L2DataMisfit(data=data_t, simulation=sim)\n",
    "\n",
    "# check for percentile floor\n",
    "\n",
    "# print(uncert.shape)\n",
    "dmisfit.W = 1. / std\n",
    "# Map for a regularization\n",
    "regmap = maps.IdentityMap(nP=int(actinds.sum()))\n",
    "# reg = regularization.Tikhonov(mesh, indActive=actinds, mapping=regmap)\n",
    "reg = regularization.Sparse(mesh, indActive=actinds, mapping=regmap)\n",
    "\n",
    "# w_fac = np.asarray([25, 10, 5])\n",
    "\n",
    "\n",
    "# surface_weights = get_surface_weights(mesh, active_cells, w_fac, octree=False)\n",
    "\n",
    "# # Related to inversion\n",
    "# reg.cell_weights = 1 / (mesh.vol[active_cells] * surface_weights[active_cells])\n",
    "\n",
    "print('[INFO] Getting things started on inversion...')\n",
    "# set alpha length scales\n",
    "reg.alpha_s = 1\n",
    "reg.alpha_x = 1\n",
    "reg.alpha_y = 1\n",
    "reg.alpha_z = 1\n",
    "# plot uncertainties\n",
    "# opt = Optimization.InexactGaussNewton(maxIter=6)\n",
    "# opt = Optimization.GaussNewton(maxIter=15)\n",
    "opt = optimization.ProjectedGNCG(maxIter=10, upper=np.inf, lower=-np.inf)\n",
    "invProb = inverse_problem.BaseInvProblem(dmisfit, reg, opt)\n",
    "beta = directives.BetaSchedule(\n",
    "    coolingFactor=coolingFactor, coolingRate=coolingRate\n",
    ")\n",
    "betaest = directives.BetaEstimate_ByEig(beta0_ratio=beta0_ratio)\n",
    "target = directives.TargetMisfit()\n",
    "target.target = survey.nD / 2.\n",
    "saveIter = directives.SaveModelEveryIteration()\n",
    "saveIterVar = directives.SaveOutputEveryIteration()\n",
    "\n",
    "directiveList = [\n",
    "    beta, betaest, target  # , saveIter, saveIterVar \n",
    "]\n",
    "\n",
    "inv = inversion.BaseInversion(\n",
    "    invProb, directiveList=directiveList)\n",
    "# opt.LSshorten = 0.5\n",
    "opt.remember('xc')\n",
    "\n",
    "# Run Inversion ======================================================\n",
    "minv = inv.run(m0)"
   ]
  },
  {
   "cell_type": "code",
   "execution_count": 6,
   "id": "bd90ef9a",
   "metadata": {},
   "outputs": [
    {
     "name": "stderr",
     "output_type": "stream",
     "text": [
      "/home/juan/anaconda3/envs/inversion/lib/python3.9/site-packages/discretize-0.8.1-py3.9-linux-x86_64.egg/discretize/utils/code_utils.py:217: FutureWarning: TensorMesh.plotImage has been deprecated, please use TensorMesh.plot_image. It will be removed in version 1.0.0 of discretize.\n",
      "  warnings.warn(\n",
      "/home/juan/anaconda3/envs/inversion/lib/python3.9/site-packages/discretize-0.8.1-py3.9-linux-x86_64.egg/discretize/mixins/mpl_mod.py:302: FutureWarning: pcolorOpts has been deprecated, please use pcolor_opts\n",
      "  warnings.warn(\n"
     ]
    },
    {
     "data": {
      "image/png": "[encoded data removed]",
      "text/plain": [
       "<Figure size 864x576 with 2 Axes>"
      ]
     },
     "metadata": {
      "needs_background": "light"
     },
     "output_type": "display_data"
    }
   ],
   "source": [
    "# ==========================================================================================\n",
    "# Plot inversion results\n",
    "rho_est = actmap * minv\n",
    "fig, ax = plt.subplots(1, 1, figsize=(12, 8))\n",
    "mtrue = 1 / np.exp(rho_est)  # np.ones(mesh.nC) * 1 / np.median(rho_app)                        # conductivity\n",
    "mtrue[~actinds] = np.nan\n",
    "clim = [0, 5]\n",
    "\n",
    "dat = mesh.plotImage(np.log(mtrue), ax=ax, grid=False,\n",
    "                     pcolorOpts={\"cmap\": \"rainbow_r\"}\n",
    "                    )\n",
    "ax.set_title('Resistivity')\n",
    "cb = plt.colorbar(dat[0], ax=ax)\n",
    "# ax.set_xlim([-300, 4300])\n",
    "# ax.set_ylim([-400, 0])\n",
    "ax.set_aspect('equal')\n",
    "ax.plot(\n",
    "    rx_locs[:, 0],\n",
    "    rx_locs[:, 1], 'k.'\n",
    ")\n",
    "plt.show()\n",
    "\n",
    "np.save('conductivity.npy', rho_est)"
   ]
  },
  {
   "cell_type": "code",
   "execution_count": 7,
   "id": "2c0fe976",
   "metadata": {},
   "outputs": [
    {
     "data": {
      "text/plain": [
       "[<matplotlib.lines.Line2D at 0x7f4613fc78b0>]"
      ]
     },
     "execution_count": 7,
     "metadata": {},
     "output_type": "execute_result"
    },
    {
     "data": {
      "image/png": "[encoded data removed]",
      "text/plain": [
       "<Figure size 432x288 with 1 Axes>"
      ]
     },
     "metadata": {
      "needs_background": "light"
     },
     "output_type": "display_data"
    }
   ],
   "source": [
    "plt.plot(data_obs, '.')\n",
    "plt.plot(invProb.dpred, '.r')"
   ]
  },
  {
   "cell_type": "code",
   "execution_count": 8,
   "id": "fb4fcb14",
   "metadata": {},
   "outputs": [
    {
     "name": "stdout",
     "output_type": "stream",
     "text": [
      "Info    : Clearing all models and views...\n",
      "Info    : Done clearing all models and views\n",
      "[ 29  30  31  32  33  34  35  36  37  38  39  40  41  42  43  44  45  46\n",
      "  47  48  49  50  51  52  53  54  55  56  57  58  59  60  61  62  63  64\n",
      "  65  66  67  68  69  70  71  72  73  74  75  76  77  78  79  80  81  82\n",
      "  83  84  85  86  87  88  89  90  91  92  93  94  95  96  97  98  99 100\n",
      " 101 102 103 104 105 106 107 108 109 110 111 112 113 114 115 116 117 118\n",
      " 119 120 121 122 123 124 125 126 127 128 129 130 131 132 133 134 135 136\n",
      " 137 138 139 140 141 142 143 144 145 146 147 148 149 150 151 152 153 154\n",
      " 155 156 157 158 159 160 161 162 163 164 165 166 167 168 169 170 171 172\n",
      " 173 174 175 176 177 178 179 180 181 182 183 184 185 186 187 188 189]\n",
      "Info    : Meshing 1D...\n",
      "Info    : [  0%] Meshing curve 100 (BSpline)\n",
      "Info    : [ 20%] Meshing curve 1000 (Line)\n",
      "Info    : [ 30%] Meshing curve 1001 (Line)\n",
      "Info    : [ 50%] Meshing curve 1002 (Line)\n",
      "Info    : [ 60%] Meshing curve 1003 (Line)\n",
      "Info    : [ 80%] Meshing curve 1004 (Line)\n",
      "Info    : [ 90%] Meshing curve 1005 (Line)\n",
      "Info    : Done meshing 1D (Wall 0.0118543s, CPU 0.013825s)\n",
      "Info    : Meshing 2D...\n",
      "Info    : Meshing surface 1111 (Plane, Frontal-Delaunay)\n",
      "Info    : Done meshing 2D (Wall 0.468673s, CPU 0.470064s)\n",
      "Info    : 3300 nodes 6663 elements\n",
      "-------------------------------------------------------\n",
      "Version       : 4.10.5\n",
      "License       : GNU General Public License\n",
      "Build OS      : Linux64-sdk\n",
      "Build date    : 20220701\n",
      "Build host    : gmsh.info\n",
      "Build options : 64Bit ALGLIB[contrib] ANN[contrib] Bamg Blas[petsc] Blossom Cgns DIntegration Dlopen DomHex Eigen[contrib] Fltk Gmm[contrib] Hxt Jpeg Kbipack Lapack[petsc] LinuxJoystick MathEx[contrib] Med Mesh Metis[contrib] Mmg Mpeg Netgen ONELAB ONELABMetamodel OpenCASCADE OpenCASCADE-CAF OpenGL OpenMP OptHom PETSc Parser Plugins Png Post QuadMeshingTools QuadTri Solver TetGen/BR Voro++[contrib] WinslowUntangler Zlib\n",
      "FLTK version  : 1.4.0\n",
      "PETSc version : 3.14.4 (real arithmtic)\n",
      "OCC version   : 7.6.1\n",
      "MED version   : 4.1.0\n",
      "Packaged by   : geuzaine\n",
      "Web site      : https://gmsh.info\n",
      "Issue tracker : https://gitlab.onelab.info/gmsh/gmsh/issues\n",
      "-------------------------------------------------------\n"
     ]
    }
   ],
   "source": [
    "# simplex mesh design\n",
    "\n",
    "gmsh.initialize()\n",
    "\n",
    "gmsh.clear()\n",
    "gmsh.model.add(\"t3\")\n",
    "\n",
    "\n",
    "# add the points defining the mesh outline\n",
    "\n",
    "# add lower points\n",
    "lc = 100\n",
    "gmsh.model.occ.addPoint(-500, 2600, 0, lc, 1)\n",
    "gmsh.model.occ.addPoint(2210, 2600, 0, lc, 2)\n",
    "\n",
    "# create the top points\n",
    "gmsh.model.occ.addPoint(-500, 3650, 0, lc, 4)\n",
    "gmsh.model.occ.addPoint(2210, 3650, 0, lc, 3)\n",
    "\n",
    "\n",
    "lc = 12.5\n",
    "gmsh.model.occ.addPoint(-500, topo[0, 1], 0, lc, 29)\n",
    "cnt = 0\n",
    "for ii in range(topo.shape[0]):\n",
    "\n",
    "    if ii == 0:\n",
    "        \n",
    "        first = gmsh.model.occ.addPoint(topo[ii, 0], topo[ii, 1], 0, lc, ii + 30)\n",
    "        first_pt = ii + 30\n",
    "        \n",
    "    else:\n",
    "        \n",
    "        if ii == topo.shape[0]-1:\n",
    "            \n",
    "            last = ii + 30\n",
    "    \n",
    "        gmsh.model.occ.addPoint(topo[ii, 0], topo[ii, 1], 0, lc, ii + 30)\n",
    "    \n",
    "    cnt += 1\n",
    "    \n",
    "    # create outterbox\n",
    "gmsh.model.occ.addLine(1, first_pt - 1, 1000)\n",
    "gmsh.model.occ.addLine(first_pt - 1, 4, 1001)\n",
    "gmsh.model.occ.addLine(4, 3, 1002)\n",
    "gmsh.model.occ.addLine(3, last, 1003)\n",
    "gmsh.model.occ.addLine(last, 2, 1004)\n",
    "gmsh.model.occ.addLine(2, 1, 1005)\n",
    "\n",
    "surface = np.arange(29, ii + 31)\n",
    "print(surface)\n",
    "surface_list = surface.tolist()\n",
    "p = gmsh.model.occ.addSpline(surface_list, 100)\n",
    "\n",
    "gmsh.model.occ.addCurveLoop([1000, 1001, 1002, 1003, 1004, 1005], 1)\n",
    "s = gmsh.model.occ.addPlaneSurface([1], 1111)\n",
    "gmsh.model.occ.synchronize()\n",
    "\n",
    "gmsh.model.mesh.embed(1, [p], 2, 1111)\n",
    "\n",
    "\n",
    "# gmsh.model.occ.synchronize()\n",
    "# gmsh.model.addPhysicalGroup(1, [1, 2, 4], 5)\n",
    "# ps = gmsh.model.addPhysicalGroup(2, [1])\n",
    "# gmsh.model.setPhysicalName(2, ps, \"My surface\")\n",
    "\n",
    "# We can then generate a 2D mesh...\n",
    "gmsh.model.mesh.generate(2)\n",
    "\n",
    "# # ... and save it to disk\n",
    "# gmsh.write(\"t1.vtk\")\n",
    "\n",
    "# Creates  graphical user interface\n",
    "gmsh.fltk.run()"
   ]
  },
  {
   "cell_type": "code",
   "execution_count": 9,
   "id": "85f7621e",
   "metadata": {},
   "outputs": [],
   "source": [
    "# Get node location and element index definitions from gmsh and create a discretize mesh\n",
    "node_list, nodes, _ = gmsh.model.mesh.get_nodes()\n",
    "el_type, elements, simps = gmsh.model.mesh.get_elements(dim=2)\n",
    "\n",
    "nodes_r = nodes.reshape(3300, 3)\n",
    "simps_r = (simps[0].reshape(-1, 3))-1\n",
    "\n",
    "mesh = discretize.SimplexMesh(nodes_r[:, :2], simps_r)"
   ]
  },
  {
   "cell_type": "code",
   "execution_count": 10,
   "id": "08cf623e",
   "metadata": {},
   "outputs": [
    {
     "name": "stdout",
     "output_type": "stream",
     "text": [
      "3300.0\n"
     ]
    },
    {
     "data": {
      "text/plain": [
       "[<matplotlib.lines.Line2D at 0x7f461292d2e0>]"
      ]
     },
     "execution_count": 10,
     "metadata": {},
     "output_type": "execute_result"
    },
    {
     "data": {
      "image/png": "[encoded data removed]",
      "text/plain": [
       "<Figure size 432x288 with 1 Axes>"
      ]
     },
     "metadata": {
      "needs_background": "light"
     },
     "output_type": "display_data"
    }
   ],
   "source": [
    "print(nodes.shape[0] / 3)\n",
    "# print(nodes_r)\n",
    "plt.plot(nodes_r[:, 0], nodes_r[:, 1], '.')"
   ]
  },
  {
   "cell_type": "code",
   "execution_count": 11,
   "id": "d11a37e3",
   "metadata": {},
   "outputs": [],
   "source": [
    "# The boundaries of the mesh align with the hemisphere.\n",
    "sigma = np.full(mesh.n_cells, 0.01)"
   ]
  },
  {
   "cell_type": "code",
   "execution_count": 12,
   "id": "abfea021",
   "metadata": {},
   "outputs": [],
   "source": [
    "G = mesh.nodal_gradient\n",
    "Me_sigma = mesh.get_edge_inner_product(sigma)\n",
    "rhs = mesh.get_interpolation_matrix(rx_locs, location_type='nodes')\n",
    "rhs = rhs.toarray()[0]"
   ]
  },
  {
   "cell_type": "code",
   "execution_count": 14,
   "id": "e0701c16",
   "metadata": {},
   "outputs": [],
   "source": [
    "import scipy.sparse as sp\n",
    "boundary_faces = mesh.boundary_faces\n",
    "boundary_normals = mesh.boundary_face_outward_normals\n",
    "n_bf = len(boundary_faces)\n",
    "\n",
    "# Top gets 0 Nuemann\n",
    "alpha = np.zeros(n_bf)\n",
    "\n",
    "# # not top get Robin condition\n",
    "# # assume a source point at the middle of the top of the mesh\n",
    "# middle = np.median(mesh.nodes, axis=0)\n",
    "# top_v = np.max(mesh.nodes[:, -1])\n",
    "# source_point = np.r_[middle[:-1], top_v]\n",
    "\n",
    "# # Others: Robin: alpha * phi + d phi dn = 0\n",
    "# # where alpha = 1 / r  * r_hat_dot_n\n",
    "\n",
    "# r_vec = boundary_faces - source_point\n",
    "# r = np.linalg.norm(r_vec, axis=-1)\n",
    "# r_hat = r_vec / r[:, None]\n",
    "# r_dot_n = np.einsum(\"ij,ij->i\", r_hat, boundary_normals)\n",
    "\n",
    "# # Identify boundary faces on each side, and bottom\n",
    "# min_x = boundary_faces[:, 0] == -2000\n",
    "# min_y = boundary_faces[:, 1] == -2000\n",
    "# min_z = boundary_faces[:, 2] == -2000\n",
    "# max_x = boundary_faces[:, 0] == 2000\n",
    "# max_y = boundary_faces[:, 1] == 2000\n",
    "# not_top = min_x | min_y | min_z | max_x | max_y\n",
    "\n",
    "# alpha[not_top] = (r_dot_n / r)[not_top]\n",
    "\n",
    "P_bf = mesh.project_face_to_boundary_face\n",
    "\n",
    "AvgN2Fb = P_bf @ mesh.average_node_to_face\n",
    "AvgCC2Fb = P_bf @ mesh.average_cell_to_face\n",
    "\n",
    "AvgCC2Fb = sp.diags(alpha * (P_bf @ mesh.face_areas)) @ AvgCC2Fb\n",
    "AvgBC = AvgN2Fb.T @ AvgCC2Fb\n",
    "\n",
    "A = G.T.tocsr() @ Me_sigma @ G + sp.diags(AvgBC @ sigma)"
   ]
  },
  {
   "cell_type": "code",
   "execution_count": 15,
   "id": "b00658f7",
   "metadata": {},
   "outputs": [],
   "source": [
    "Ainv = Pardiso(A)"
   ]
  },
  {
   "cell_type": "code",
   "execution_count": 17,
   "id": "35ca3595",
   "metadata": {},
   "outputs": [],
   "source": [
    "x = Ainv * rhs"
   ]
  },
  {
   "cell_type": "code",
   "execution_count": 21,
   "id": "ab7e9ac9",
   "metadata": {},
   "outputs": [
    {
     "name": "stdout",
     "output_type": "stream",
     "text": [
      "(3300,) 6171\n"
     ]
    }
   ],
   "source": [
    "print(x.shape, mesh.nC)"
   ]
  },
  {
   "cell_type": "code",
   "execution_count": null,
   "id": "2295738a",
   "metadata": {},
   "outputs": [],
   "source": []
  }
 ],
 "metadata": {
  "kernelspec": {
   "display_name": "Python 3 (ipykernel)",
   "language": "python",
   "name": "python3"
  },
  "language_info": {
   "codemirror_mode": {
    "name": "ipython",
    "version": 3
   },
   "file_extension": ".py",
   "mimetype": "text/x-python",
   "name": "python",
   "nbconvert_exporter": "python",
   "pygments_lexer": "ipython3",
   "version": "3.9.7"
  }
 },
 "nbformat": 4,
 "nbformat_minor": 5
}
